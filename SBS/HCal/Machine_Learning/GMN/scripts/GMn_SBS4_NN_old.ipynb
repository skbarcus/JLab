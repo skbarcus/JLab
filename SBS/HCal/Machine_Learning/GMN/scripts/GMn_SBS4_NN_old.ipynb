{
  "nbformat": 4,
  "nbformat_minor": 0,
  "metadata": {
    "colab": {
      "name": "GMn_SBS4_NN.ipynb",
      "provenance": []
    },
    "kernelspec": {
      "name": "python3",
      "display_name": "Python 3"
    },
    "language_info": {
      "name": "python"
    }
  },
  "cells": [
    {
      "cell_type": "code",
      "execution_count": 2,
      "metadata": {
        "id": "sb9_taXeaaRX"
      },
      "outputs": [],
      "source": [
        "import numpy as np\n",
        "import tensorflow as tf\n",
        "from matplotlib import pyplot as plt\n",
        "from sklearn.model_selection import train_test_split\n",
        "\n",
        "from matplotlib.ticker import MaxNLocator #Able to force plots to use integer ticks only. \n",
        "\n",
        "from keras import Input, Model, Sequential\n",
        "from keras.layers import Conv2D, MaxPooling2D, Concatenate, Activation, Dropout, Flatten, Dense\n",
        "\n",
        "def plot_learning_curve(history):\n",
        "    fig, ax = plt.subplots(1, 2, figsize=(12, 4))\n",
        "    ax[0].plot(history['loss'], label='training')\n",
        "    ax[0].plot(history['val_loss'], label='validation')\n",
        "    ax[0].set_title(\"Model losses\")\n",
        "    ax[0].set_xlabel(\"Epoch\")\n",
        "    ax[0].set_ylabel(\"Loss\")\n",
        "    ax[0].set_yscale('log')\n",
        "    ax[0].xaxis.set_major_locator(MaxNLocator(integer=True))\n",
        "    ax[0].legend()\n",
        "    \n",
        "    ax[1].plot(history['accuracy'], label='training')\n",
        "    ax[1].plot(history['val_accuracy'], label='validation')\n",
        "    ax[1].set_title(\"Model accuracy\")\n",
        "    ax[1].set_xlabel(\"Epoch\")\n",
        "    ax[1].set_ylabel(\"Accuracy\")\n",
        "    ax[1].xaxis.set_major_locator(MaxNLocator(integer=True))\n",
        "    ax[1].legend()\n",
        "    plt.show()\n",
        "    # plt.plot(history[\"loss\"], label=\"training loss\")\n",
        "    # plt.plot(history[\"val_loss\"], label=\"validation loss\")\n",
        "    # plt.xlabel(\"Epoch\")\n",
        "    # plt.ylabel(\"Loss\")\n",
        "    # plt.yscale('log')\n",
        "    # plt.legend()\n",
        "    # plt.show()"
      ]
    },
    {
      "cell_type": "code",
      "source": [
        ""
      ],
      "metadata": {
        "id": "ISvEm1-zalKO"
      },
      "execution_count": null,
      "outputs": []
    }
  ]
}