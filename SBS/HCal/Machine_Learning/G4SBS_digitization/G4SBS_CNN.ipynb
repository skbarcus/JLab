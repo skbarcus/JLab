{
 "cells": [
  {
   "cell_type": "code",
   "execution_count": 1,
   "metadata": {
    "colab": {},
    "colab_type": "code",
    "id": "9VVnx-WR4txw"
   },
   "outputs": [],
   "source": [
    "from sklearn.model_selection import train_test_split #For reasons beyond the ken of mortal man, this needs to be loaded first or it will fail. Might be TF that it needs to be loaded before."
   ]
  },
  {
   "cell_type": "code",
   "execution_count": 2,
   "metadata": {
    "colab": {
     "base_uri": "https://localhost:8080/",
     "height": 122
    },
    "colab_type": "code",
    "id": "O90tfkv9GtRo",
    "outputId": "03fdffb2-5e36-4b7f-c661-f00cc93dcd96"
   },
   "outputs": [
    {
     "ename": "ModuleNotFoundError",
     "evalue": "No module named 'google.colab'",
     "output_type": "error",
     "traceback": [
      "\u001b[0;31m---------------------------------------------------------------------------\u001b[0m",
      "\u001b[0;31mModuleNotFoundError\u001b[0m                       Traceback (most recent call last)",
      "\u001b[0;32m<ipython-input-2-d5df0069828e>\u001b[0m in \u001b[0;36m<module>\u001b[0;34m\u001b[0m\n\u001b[0;32m----> 1\u001b[0;31m \u001b[0;32mfrom\u001b[0m \u001b[0mgoogle\u001b[0m\u001b[0;34m.\u001b[0m\u001b[0mcolab\u001b[0m \u001b[0;32mimport\u001b[0m \u001b[0mdrive\u001b[0m\u001b[0;34m\u001b[0m\u001b[0;34m\u001b[0m\u001b[0m\n\u001b[0m\u001b[1;32m      2\u001b[0m \u001b[0mdrive\u001b[0m\u001b[0;34m.\u001b[0m\u001b[0mmount\u001b[0m\u001b[0;34m(\u001b[0m\u001b[0;34m'/content/drive'\u001b[0m\u001b[0;34m)\u001b[0m\u001b[0;34m\u001b[0m\u001b[0;34m\u001b[0m\u001b[0m\n",
      "\u001b[0;31mModuleNotFoundError\u001b[0m: No module named 'google.colab'"
     ]
    }
   ],
   "source": [
    "from google.colab import drive\n",
    "drive.mount('/content/drive')"
   ]
  },
  {
   "cell_type": "code",
   "execution_count": 14,
   "metadata": {
    "colab": {},
    "colab_type": "code",
    "id": "CTuF3WIh4tx1"
   },
   "outputs": [],
   "source": [
    "import numpy as np\n",
    "import tensorflow as tf\n",
    "from matplotlib import pyplot as plt\n",
    "#from sklearn.model_selection import train_test_split\n",
    "#import sklearn\n",
    "from matplotlib.ticker import MaxNLocator #Able to force plots to use integer ticks only.\n",
    "\n",
    "from tensorflow import keras\n",
    "from keras import Input, Model, Sequential\n",
    "from keras.layers import Conv2D, MaxPooling2D, Concatenate, Activation, Dropout, Flatten, Dense\n",
    "from tensorflow.keras.layers import concatenate\n",
    "\n"
   ]
  },
  {
   "cell_type": "code",
   "execution_count": 15,
   "metadata": {
    "colab": {
     "base_uri": "https://localhost:8080/",
     "height": 34
    },
    "colab_type": "code",
    "id": "eoBWtHriYMdy",
    "outputId": "8e1da5be-13a4-48b1-9721-4dd83764d4ac"
   },
   "outputs": [
    {
     "name": "stdout",
     "output_type": "stream",
     "text": [
      "10\n"
     ]
    }
   ],
   "source": [
    "def plot_learning_curve(history):\n",
    "      fig, ax = plt.subplots(1, 2, figsize=(12, 4))\n",
    "      ax[0].plot(history['loss'], label='training')\n",
    "      ax[0].plot(history['val_loss'], label='validation')\n",
    "      ax[0].set_title(\"Model losses\")\n",
    "      ax[0].set_xlabel(\"Epoch\")\n",
    "      ax[0].set_ylabel(\"Loss\")\n",
    "      #ax[0].set_yscale('log')\n",
    "      ax[0].xaxis.set_major_locator(MaxNLocator(integer=True))\n",
    "      ax[0].legend()\n",
    "\n",
    "      ax[1].plot(history['accuracy'], label='training')\n",
    "      ax[1].plot(history['val_accuracy'], label='validation')\n",
    "      ax[1].set_title(\"Model accuracy\")\n",
    "      ax[1].set_xlabel(\"Epoch\")\n",
    "      ax[1].set_ylabel(\"Accuracy\")\n",
    "      ax[1].xaxis.set_major_locator(MaxNLocator(integer=True))\n",
    "      ax[1].legend()\n",
    "      plt.show()\n",
    "\n",
    "\n",
    "tot = 0\n",
    "q = [1,2,3,4]\n",
    "for i in q:\n",
    "  tot=i+tot\n",
    "\n",
    "print(tot)"
   ]
  },
  {
   "cell_type": "code",
   "execution_count": 1,
   "metadata": {
    "colab": {
     "base_uri": "https://localhost:8080/",
     "height": 153
    },
    "colab_type": "code",
    "id": "4Yfn4_PS4tx5",
    "outputId": "cfe4077a-d81c-4335-e30c-95e2d8a73241"
   },
   "outputs": [
    {
     "name": "stdout",
     "output_type": "stream",
     "text": [
      "ls: cannot access /content/drive/My Drive/Colab Notebooks/: No such file or directory\n"
     ]
    },
    {
     "ename": "NameError",
     "evalue": "name 'np' is not defined",
     "output_type": "error",
     "traceback": [
      "\u001b[0;31m---------------------------------------------------------------------------\u001b[0m",
      "\u001b[0;31mNameError\u001b[0m                                 Traceback (most recent call last)",
      "\u001b[0;32m<ipython-input-1-56c8f4c0fde8>\u001b[0m in \u001b[0;36m<module>\u001b[0;34m\u001b[0m\n\u001b[1;32m      1\u001b[0m \u001b[0mget_ipython\u001b[0m\u001b[0;34m(\u001b[0m\u001b[0;34m)\u001b[0m\u001b[0;34m.\u001b[0m\u001b[0msystem\u001b[0m\u001b[0;34m(\u001b[0m\u001b[0;34m'ls \"/content/drive/My Drive/Colab Notebooks/\"'\u001b[0m\u001b[0;34m)\u001b[0m\u001b[0;34m\u001b[0m\u001b[0;34m\u001b[0m\u001b[0m\n\u001b[0;32m----> 2\u001b[0;31m \u001b[0madc\u001b[0m \u001b[0;34m=\u001b[0m \u001b[0mnp\u001b[0m\u001b[0;34m.\u001b[0m\u001b[0mload\u001b[0m\u001b[0;34m(\u001b[0m\u001b[0;34m\"/content/drive/My Drive/Colab Notebooks/g4sbs_kin7_pmt_edep_preprocessed.npy\"\u001b[0m\u001b[0;34m)\u001b[0m\u001b[0;34m\u001b[0m\u001b[0;34m\u001b[0m\u001b[0m\n\u001b[0m\u001b[1;32m      3\u001b[0m \u001b[0mtdc\u001b[0m \u001b[0;34m=\u001b[0m \u001b[0mnp\u001b[0m\u001b[0;34m.\u001b[0m\u001b[0mload\u001b[0m\u001b[0;34m(\u001b[0m\u001b[0;34m\"/content/drive/My Drive/Colab Notebooks/g4sbs_kin7_tavg_preprocessed.npy\"\u001b[0m\u001b[0;34m)\u001b[0m\u001b[0;34m\u001b[0m\u001b[0;34m\u001b[0m\u001b[0m\n\u001b[1;32m      4\u001b[0m \u001b[0mhits\u001b[0m \u001b[0;34m=\u001b[0m \u001b[0mnp\u001b[0m\u001b[0;34m.\u001b[0m\u001b[0mload\u001b[0m\u001b[0;34m(\u001b[0m\u001b[0;34m\"/content/drive/My Drive/Colab Notebooks/g4sbs_kin7_fnucl.npy\"\u001b[0m\u001b[0;34m)\u001b[0m\u001b[0;34m\u001b[0m\u001b[0;34m\u001b[0m\u001b[0m\n\u001b[1;32m      5\u001b[0m \u001b[0;34m\u001b[0m\u001b[0m\n",
      "\u001b[0;31mNameError\u001b[0m: name 'np' is not defined"
     ]
    }
   ],
   "source": [
    "!ls \"/content/drive/My Drive/Colab Notebooks/\"\n",
    "adc = np.load(\"/content/drive/My Drive/Colab Notebooks/g4sbs_kin7_pmt_edep_preprocessed.npy\")\n",
    "tdc = np.load(\"/content/drive/My Drive/Colab Notebooks/g4sbs_kin7_tavg_preprocessed.npy\")\n",
    "hits = np.load(\"/content/drive/My Drive/Colab Notebooks/g4sbs_kin7_fnucl.npy\")\n",
    "\n",
    "#print(adc[0])\n",
    "#print('adc matrix = ', adc)\n",
    "print('adc.shape = ', adc.shape)\n",
    "adc = np.reshape(adc, (adc.shape[0], 24, 12, 1))\n",
    "print('adc.shape = ', adc.shape)\n",
    "print('tdc.shape = ', tdc.shape)\n",
    "tdc = np.reshape(tdc, (tdc.shape[0], 24, 12, 1))\n",
    "print('tdc.shape = ', tdc.shape)\n",
    "print('hits matrix = ', hits)\n",
    "print('hits.shape = ', hits.shape)"
   ]
  },
  {
   "cell_type": "code",
   "execution_count": 17,
   "metadata": {
    "colab": {
     "base_uri": "https://localhost:8080/",
     "height": 85
    },
    "colab_type": "code",
    "id": "M9VhWZfZ4tx8",
    "outputId": "0ec8a113-618c-4402-b1c9-3a6d44966875"
   },
   "outputs": [
    {
     "name": "stdout",
     "output_type": "stream",
     "text": [
      "adc_train.shape, adc_test.shape =  (400000, 24, 12, 1) (100000, 24, 12, 1)\n",
      "tdc_train.shape, tdc_test.shape =  (400000, 24, 12, 1) (100000, 24, 12, 1)\n",
      "hits_train.shape, hits_test.shape =  (400000,) (100000,)\n",
      "Counts =  {0: 200108, 1: 199892}\n"
     ]
    }
   ],
   "source": [
    "#Split data into training and test.\n",
    "\n",
    "adc_train, adc_test, tdc_train, tdc_test, hits_train, hits_test = train_test_split(adc, tdc, hits, test_size=0.20)\n",
    "\n",
    "print('adc_train.shape, adc_test.shape = ', adc_train.shape, adc_test.shape)\n",
    "print('tdc_train.shape, tdc_test.shape = ', tdc_train.shape, tdc_test.shape)\n",
    "print('hits_train.shape, hits_test.shape = ', hits_train.shape, hits_test.shape)\n",
    "#print(adc_train[2])\n",
    "\n",
    "unique, counts = np.unique(hits_train, return_counts=True)\n",
    "counts = dict(zip(unique, counts))\n",
    "print('Counts = ', counts)"
   ]
  },
  {
   "cell_type": "code",
   "execution_count": 29,
   "metadata": {
    "colab": {
     "base_uri": "https://localhost:8080/",
     "height": 391
    },
    "colab_type": "code",
    "id": "6Uwvdk4h4tx_",
    "outputId": "75371fd8-5699-4951-a7ae-7faf874769dd"
   },
   "outputs": [
    {
     "name": "stdout",
     "output_type": "stream",
     "text": [
      "Model: \"sequential_5\"\n",
      "_________________________________________________________________\n",
      "Layer (type)                 Output Shape              Param #   \n",
      "=================================================================\n",
      "conv2d_19 (Conv2D)           (None, 19, 7, 64)         2368      \n",
      "_________________________________________________________________\n",
      "max_pooling2d_19 (MaxPooling (None, 19, 7, 64)         0         \n",
      "_________________________________________________________________\n",
      "dropout_19 (Dropout)         (None, 19, 7, 64)         0         \n",
      "_________________________________________________________________\n",
      "flatten_19 (Flatten)         (None, 8512)              0         \n",
      "_________________________________________________________________\n",
      "dense_37 (Dense)             (None, 128)               1089664   \n",
      "_________________________________________________________________\n",
      "dense_38 (Dense)             (None, 64)                8256      \n",
      "_________________________________________________________________\n",
      "dense_39 (Dense)             (None, 1)                 65        \n",
      "=================================================================\n",
      "Total params: 1,100,353\n",
      "Trainable params: 1,100,353\n",
      "Non-trainable params: 0\n",
      "_________________________________________________________________\n"
     ]
    }
   ],
   "source": [
    "model = Sequential() #Define the model object\n",
    "\n",
    "model.add(Conv2D(filters=64,kernel_size=6,activation='relu',input_shape=adc.shape[1:]))#Shape of a single image.\n",
    "model.add(MaxPooling2D(1,1))\n",
    "model.add(Dropout(0.25))\n",
    "model.add(Flatten())\n",
    "model.add(Dense(128, activation='relu'))\n",
    "model.add(Dense(64, activation='relu'))\n",
    "model.add(Dense(1, activation='sigmoid'))\n",
    "model.compile(optimizer='adam',loss='binary_crossentropy',metrics=['accuracy'])\n",
    "#model.compile(optimizers.Adam(lr=0.001),loss='binary_crossentropy',metrics=['accuracy'])\n",
    "#model.compile(optimizer=optimizer_adam(lr = 0.001),loss='binary_crossentropy',metrics=['accuracy'])\n",
    "\"\"\"\n",
    "model = tf.keras.Sequential() #Define the model object\n",
    "\n",
    "model.add(tf.keras.layers.Conv2D(filters=64,kernel_size=6,activation='relu',input_shape=adc.shape[1:]))#Shape of a single image.\n",
    "model.add(tf.keras.layers.MaxPool2D(1,1))\n",
    "model.add(Dropout(0.25))\n",
    "model.add(tf.keras.layers.Flatten())\n",
    "model.add(tf.keras.layers.Dense(128, activation='relu'))\n",
    "model.add(tf.keras.layers.Dense(64, activation='relu'))\n",
    "model.add(tf.keras.layers.Dense(1, activation='sigmoid'))\n",
    "#model.compile(optimizer='adam',loss='binary_crossentropy',metrics=['accuracy'])\n",
    "model.compile(tf.keras.optimizers.Adam(lr=0.001),loss='binary_crossentropy',metrics=['accuracy'])\n",
    "\"\"\"\n",
    "\n",
    "\"\"\"\n",
    "#Dense NN (not CNN layers).\n",
    "model.add(tf.keras.layers.Dense(128, input_shape=(144,), activation=\"relu\")) #Add the hidden layer\n",
    "model.add(tf.keras.layers.Dense(64, activation=\"relu\"))\n",
    "#model.add(tf.keras.layers.Dense(32, activation=\"relu\"))\n",
    "model.add(tf.keras.layers.Dense(1))\n",
    "\"\"\"\n",
    "\n",
    "#model.compile(tf.keras.optimizers.Adam(lr=0.01),loss=tf.keras.losses.CategoricalCrossentropy()) #Adam optimizer and mean squared error loss\n",
    "#model.compile(tf.keras.optimizers.Adam(lr=0.0001),loss=tf.keras.losses.MeanSquaredError(),metrics=['accuracy'])\n",
    "\n",
    "#Print summary of model.\n",
    "model.summary()"
   ]
  },
  {
   "cell_type": "code",
   "execution_count": 7,
   "metadata": {
    "colab": {
     "base_uri": "https://localhost:8080/",
     "height": 394
    },
    "colab_type": "code",
    "id": "BwExfXgr4tyC",
    "outputId": "9ab8f38e-e267-49b8-c9ed-5b11abd1c884"
   },
   "outputs": [
    {
     "name": "stdout",
     "output_type": "stream",
     "text": [
      "Epoch 1/10\n",
      "4688/4688 [==============================] - 30s 6ms/step - loss: 0.6904 - accuracy: 0.5281 - val_loss: 0.6901 - val_accuracy: 0.5309\n",
      "Epoch 2/10\n",
      "4688/4688 [==============================] - 30s 6ms/step - loss: 0.6894 - accuracy: 0.5324 - val_loss: 0.6899 - val_accuracy: 0.5315\n",
      "Epoch 3/10\n",
      "4688/4688 [==============================] - 29s 6ms/step - loss: 0.6890 - accuracy: 0.5335 - val_loss: 0.6900 - val_accuracy: 0.5299\n",
      "Epoch 4/10\n",
      "4688/4688 [==============================] - 29s 6ms/step - loss: 0.6885 - accuracy: 0.5365 - val_loss: 0.6903 - val_accuracy: 0.5312\n",
      "Epoch 5/10\n",
      "4688/4688 [==============================] - 29s 6ms/step - loss: 0.6879 - accuracy: 0.5387 - val_loss: 0.6903 - val_accuracy: 0.5290\n",
      "Epoch 6/10\n",
      "4688/4688 [==============================] - 29s 6ms/step - loss: 0.6870 - accuracy: 0.5422 - val_loss: 0.6913 - val_accuracy: 0.5275\n",
      "Epoch 7/10\n",
      "4688/4688 [==============================] - 30s 6ms/step - loss: 0.6855 - accuracy: 0.5472 - val_loss: 0.6924 - val_accuracy: 0.5270\n",
      "Epoch 8/10\n",
      "4688/4688 [==============================] - 29s 6ms/step - loss: 0.6834 - accuracy: 0.5514 - val_loss: 0.6933 - val_accuracy: 0.5281\n",
      "Epoch 9/10\n",
      "4688/4688 [==============================] - 29s 6ms/step - loss: 0.6803 - accuracy: 0.5583 - val_loss: 0.6951 - val_accuracy: 0.5247\n",
      "Epoch 10/10\n",
      "4688/4688 [==============================] - 29s 6ms/step - loss: 0.6761 - accuracy: 0.5655 - val_loss: 0.6969 - val_accuracy: 0.5254\n",
      "3125/3125 [==============================] - 8s 3ms/step - loss: 0.6972 - accuracy: 0.5227\n"
     ]
    }
   ],
   "source": [
    "#results = model.fit(adc_train, hits_train, epochs=10, batch_size=64, validation_split=0.05)\n",
    "results = model.fit(tdc_train, hits_train, epochs=10, batch_size=64, validation_split=0.25)\n",
    "\n",
    "#prediction = model.predict()\n",
    "#scores = model.evaluate(adc_test, hits_test)\n",
    "scores = model.evaluate(tdc_test, hits_test)"
   ]
  },
  {
   "cell_type": "code",
   "execution_count": 8,
   "metadata": {
    "colab": {
     "base_uri": "https://localhost:8080/",
     "height": 312
    },
    "colab_type": "code",
    "id": "R39BxGM-4tyE",
    "outputId": "a12b25ee-fe34-4b8e-c921-370688821c16"
   },
   "outputs": [
    {
     "name": "stdout",
     "output_type": "stream",
     "text": [
      "test loss, test acc: [0.6972454786300659, 0.5227199792861938]\n"
     ]
    },
    {
     "data": {
      "image/png": "[encoded data removed]",
      "text/plain": [
       "<Figure size 864x288 with 2 Axes>"
      ]
     },
     "metadata": {
      "needs_background": "light",
      "tags": []
     },
     "output_type": "display_data"
    }
   ],
   "source": [
    "print(\"test loss, test acc:\", scores)\n",
    "\n",
    "plot_learning_curve(results.history)"
   ]
  },
  {
   "cell_type": "code",
   "execution_count": 47,
   "metadata": {
    "colab": {
     "base_uri": "https://localhost:8080/",
     "height": 697
    },
    "colab_type": "code",
    "id": "yNaDWTo-hrH7",
    "outputId": "69ed6d78-c278-4dda-af24-463e3dc8c5b8"
   },
   "outputs": [
    {
     "name": "stdout",
     "output_type": "stream",
     "text": [
      "(24, 12, 1)\n",
      "Model: \"functional_89\"\n",
      "__________________________________________________________________________________________________\n",
      "Layer (type)                    Output Shape         Param #     Connected to                     \n",
      "==================================================================================================\n",
      "input_29 (InputLayer)           [(None, 24, 12, 1)]  0                                            \n",
      "__________________________________________________________________________________________________\n",
      "input_30 (InputLayer)           [(None, 24, 12, 1)]  0                                            \n",
      "__________________________________________________________________________________________________\n",
      "conv2d_28 (Conv2D)              (None, 19, 7, 64)    2368        input_29[0][0]                   \n",
      "__________________________________________________________________________________________________\n",
      "conv2d_29 (Conv2D)              (None, 19, 7, 64)    2368        input_30[0][0]                   \n",
      "__________________________________________________________________________________________________\n",
      "max_pooling2d_28 (MaxPooling2D) (None, 19, 7, 64)    0           conv2d_28[0][0]                  \n",
      "__________________________________________________________________________________________________\n",
      "max_pooling2d_29 (MaxPooling2D) (None, 19, 7, 64)    0           conv2d_29[0][0]                  \n",
      "__________________________________________________________________________________________________\n",
      "dropout_28 (Dropout)            (None, 19, 7, 64)    0           max_pooling2d_28[0][0]           \n",
      "__________________________________________________________________________________________________\n",
      "dropout_29 (Dropout)            (None, 19, 7, 64)    0           max_pooling2d_29[0][0]           \n",
      "__________________________________________________________________________________________________\n",
      "flatten_28 (Flatten)            (None, 8512)         0           dropout_28[0][0]                 \n",
      "__________________________________________________________________________________________________\n",
      "flatten_29 (Flatten)            (None, 8512)         0           dropout_29[0][0]                 \n",
      "__________________________________________________________________________________________________\n",
      "dense_56 (Dense)                (None, 128)          1089664     flatten_28[0][0]                 \n",
      "__________________________________________________________________________________________________\n",
      "dense_57 (Dense)                (None, 128)          1089664     flatten_29[0][0]                 \n",
      "__________________________________________________________________________________________________\n",
      "concatenate_14 (Concatenate)    (None, 256)          0           dense_56[0][0]                   \n",
      "                                                                 dense_57[0][0]                   \n",
      "__________________________________________________________________________________________________\n",
      "dense_58 (Dense)                (None, 32)           8224        concatenate_14[0][0]             \n",
      "__________________________________________________________________________________________________\n",
      "dense_59 (Dense)                (None, 1)            33          dense_58[0][0]                   \n",
      "==================================================================================================\n",
      "Total params: 2,192,321\n",
      "Trainable params: 2,192,321\n",
      "Non-trainable params: 0\n",
      "__________________________________________________________________________________________________\n"
     ]
    }
   ],
   "source": [
    "# define two sets of inputs\n",
    "print(adc.shape[1:])\n",
    "inputA = Input(shape=(24,12,1))\n",
    "inputB = Input(shape=(24,12,1))\n",
    "\n",
    "# the first branch operates on the first input\n",
    "x = Conv2D(filters=64,kernel_size=6,activation='relu',input_shape=adc.shape[1:])(inputA)#Shape of a single image.\n",
    "x = MaxPooling2D(1,1)(x)\n",
    "x = Dropout(0.25)(x)\n",
    "x = Flatten()(x)\n",
    "x = Dense(128, activation=\"relu\")(x)\n",
    "x = Model(inputs=inputA, outputs=x)\n",
    "\n",
    "# the second branch opreates on the second input\n",
    "y = Conv2D(filters=64,kernel_size=6,activation='relu',input_shape=tdc.shape[1:])(inputB)#Shape of a single image.\n",
    "y = MaxPooling2D(1,1)(y)\n",
    "y = Dropout(0.25)(y)\n",
    "y = Flatten()(y)\n",
    "y = Dense(128, activation=\"relu\")(y)\n",
    "y = Model(inputs=inputB, outputs=y)\n",
    "\n",
    "# combine the output of the two branches\n",
    "combined = concatenate([x.output, y.output])\n",
    "\n",
    "# apply a FC layer and then a regression prediction on the\n",
    "# combined outputs\n",
    "z = Dense(32, activation=\"relu\")(combined)\n",
    "z = Dense(1, activation=\"sigmoid\")(z)\n",
    "\n",
    "# our model will accept the inputs of the two branches and\n",
    "# then output a single value\n",
    "model = Model(inputs=[x.input, y.input], outputs=z)\n",
    "#model.compile(optimizer='adam',loss='binary_crossentropy',metrics=['accuracy'])\n",
    "opt = keras.optimizers.Adam(learning_rate=0.0005)#Default lr=0.001\n",
    "model.compile(optimizer=opt,loss='binary_crossentropy',metrics=['accuracy'])\n",
    "model.summary()"
   ]
  },
  {
   "cell_type": "code",
   "execution_count": 48,
   "metadata": {
    "colab": {
     "base_uri": "https://localhost:8080/",
     "height": 394
    },
    "colab_type": "code",
    "id": "Ra9-3dyECkdT",
    "outputId": "5da3a5fa-9bd4-4a90-e3fd-36ef9f825a4f"
   },
   "outputs": [
    {
     "name": "stdout",
     "output_type": "stream",
     "text": [
      "Epoch 1/10\n",
      "4688/4688 [==============================] - 39s 8ms/step - loss: 0.6886 - accuracy: 0.5297 - val_loss: 0.6873 - val_accuracy: 0.5338\n",
      "Epoch 2/10\n",
      "4688/4688 [==============================] - 38s 8ms/step - loss: 0.6873 - accuracy: 0.5342 - val_loss: 0.6869 - val_accuracy: 0.5365\n",
      "Epoch 3/10\n",
      "4688/4688 [==============================] - 38s 8ms/step - loss: 0.6863 - accuracy: 0.5386 - val_loss: 0.6875 - val_accuracy: 0.5362\n",
      "Epoch 4/10\n",
      "4688/4688 [==============================] - 38s 8ms/step - loss: 0.6855 - accuracy: 0.5409 - val_loss: 0.6870 - val_accuracy: 0.5364\n",
      "Epoch 5/10\n",
      "4688/4688 [==============================] - 39s 8ms/step - loss: 0.6842 - accuracy: 0.5456 - val_loss: 0.6872 - val_accuracy: 0.5346\n",
      "Epoch 6/10\n",
      "4688/4688 [==============================] - 39s 8ms/step - loss: 0.6823 - accuracy: 0.5508 - val_loss: 0.6882 - val_accuracy: 0.5337\n",
      "Epoch 7/10\n",
      "4688/4688 [==============================] - 38s 8ms/step - loss: 0.6795 - accuracy: 0.5573 - val_loss: 0.6904 - val_accuracy: 0.5309\n",
      "Epoch 8/10\n",
      "4688/4688 [==============================] - 38s 8ms/step - loss: 0.6755 - accuracy: 0.5659 - val_loss: 0.6952 - val_accuracy: 0.5305\n",
      "Epoch 9/10\n",
      "4688/4688 [==============================] - 37s 8ms/step - loss: 0.6703 - accuracy: 0.5748 - val_loss: 0.6976 - val_accuracy: 0.5289\n",
      "Epoch 10/10\n",
      "4688/4688 [==============================] - 38s 8ms/step - loss: 0.6635 - accuracy: 0.5846 - val_loss: 0.7011 - val_accuracy: 0.5278\n",
      "3125/3125 [==============================] - 10s 3ms/step - loss: 0.7017 - accuracy: 0.5265\n"
     ]
    }
   ],
   "source": [
    "results = model.fit([adc_train, tdc_train], hits_train, epochs=10, batch_size=64, validation_split=0.25)\n",
    "scores = model.evaluate([adc_test,tdc_test], hits_test)"
   ]
  },
  {
   "cell_type": "code",
   "execution_count": 28,
   "metadata": {
    "colab": {
     "base_uri": "https://localhost:8080/",
     "height": 312
    },
    "colab_type": "code",
    "id": "wo5jL4rjGzs7",
    "outputId": "0b4a4aa2-93f9-4713-f067-c6c8712797ec"
   },
   "outputs": [
    {
     "name": "stdout",
     "output_type": "stream",
     "text": [
      "test loss, test acc: [0.69709712266922, 0.5275700092315674]\n"
     ]
    },
    {
     "data": {
      "image/png": "[encoded data removed]",
      "text/plain": [
       "<Figure size 864x288 with 2 Axes>"
      ]
     },
     "metadata": {
      "needs_background": "light",
      "tags": []
     },
     "output_type": "display_data"
    }
   ],
   "source": [
    "print(\"test loss, test acc:\", scores)\n",
    "\n",
    "plot_learning_curve(results.history)"
   ]
  },
  {
   "cell_type": "code",
   "execution_count": null,
   "metadata": {
    "colab": {},
    "colab_type": "code",
    "id": "WuDCXaOCLNxJ"
   },
   "outputs": [],
   "source": []
  }
 ],
 "metadata": {
  "accelerator": "GPU",
  "colab": {
   "name": "G4SBS_CNN.ipynb",
   "provenance": [],
   "toc_visible": true
  },
  "kernelspec": {
   "display_name": "Python 3",
   "language": "python",
   "name": "python3"
  },
  "language_info": {
   "codemirror_mode": {
    "name": "ipython",
    "version": 3
   },
   "file_extension": ".py",
   "mimetype": "text/x-python",
   "name": "python",
   "nbconvert_exporter": "python",
   "pygments_lexer": "ipython3",
   "version": "3.7.3"
  }
 },
 "nbformat": 4,
 "nbformat_minor": 4
}
