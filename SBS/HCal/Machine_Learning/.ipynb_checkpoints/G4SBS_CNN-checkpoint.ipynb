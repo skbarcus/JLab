{
 "cells": [
  {
   "cell_type": "code",
   "execution_count": 1,
   "metadata": {},
   "outputs": [],
   "source": [
    "from sklearn.model_selection import train_test_split #For reasons beyond the ken of mortal man, this needs to be loaded first or it will fail. Might be TF that it needs to be loaded before."
   ]
  },
  {
   "cell_type": "code",
   "execution_count": 2,
   "metadata": {},
   "outputs": [
    {
     "name": "stderr",
     "output_type": "stream",
     "text": [
      "Using TensorFlow backend.\n"
     ]
    }
   ],
   "source": [
    "import numpy as np\n",
    "import tensorflow as tf\n",
    "from matplotlib import pyplot as plt\n",
    "#from sklearn.model_selection import train_test_split\n",
    "#import sklearn\n",
    "from matplotlib.ticker import MaxNLocator #Able to force plots to use integer ticks only.\n",
    "\n",
    "from keras import Input, Model, Sequential\n",
    "from keras.layers import Conv2D, MaxPooling2D, Concatenate, Activation, Dropout, Flatten, Dense\n",
    "\n",
    "def plot_learning_curve(history):\n",
    "    fig, ax = plt.subplots(1, 2, figsize=(12, 4))\n",
    "    ax[0].plot(history['loss'], label='training')\n",
    "    ax[0].plot(history['val_loss'], label='validation')\n",
    "    ax[0].set_title(\"Model losses\")\n",
    "    ax[0].set_xlabel(\"Epoch\")\n",
    "    ax[0].set_ylabel(\"Loss\")\n",
    "    ax[0].set_yscale('log')\n",
    "    ax[0].xaxis.set_major_locator(MaxNLocator(integer=True))\n",
    "    ax[0].legend()\n",
    "    \n",
    "    ax[1].plot(history['accuracy'], label='training')\n",
    "    ax[1].plot(history['val_accuracy'], label='validation')\n",
    "    ax[1].set_title(\"Model accuracy\")\n",
    "    ax[1].set_xlabel(\"Epoch\")\n",
    "    ax[1].set_ylabel(\"Accuracy\")\n",
    "    ax[1].xaxis.set_major_locator(MaxNLocator(integer=True))\n",
    "    ax[1].legend()\n",
    "    plt.show()\n",
    "    # plt.plot(history[\"loss\"], label=\"training loss\")\n",
    "    # plt.plot(history[\"val_loss\"], label=\"validation loss\")\n",
    "    # plt.xlabel(\"Epoch\")\n",
    "    # plt.ylabel(\"Loss\")\n",
    "    # plt.yscale('log')\n",
    "    # plt.legend()\n",
    "    # plt.show()"
   ]
  },
  {
   "cell_type": "code",
   "execution_count": 3,
   "metadata": {},
   "outputs": [
    {
     "name": "stdout",
     "output_type": "stream",
     "text": [
      "adc.shape =  (500000, 288)\n",
      "adc.shape =  (500000, 24, 12, 1)\n",
      "tdc.shape =  (500000, 288)\n",
      "tdc.shape =  (500000, 24, 12, 1)\n",
      "hits matrix =  [0 0 0 ... 0 1 0]\n",
      "hits.shape =  (500000,)\n"
     ]
    }
   ],
   "source": [
    "adc = np.load(\"g4sbs_kin7_pmt_edep_preprocessed.npy\")\n",
    "tdc = np.load(\"g4sbs_kin7_tavg_preprocessed.npy\")\n",
    "hits = np.load(\"g4sbs_kin7_fnucl.npy\")\n",
    "\n",
    "#print(adc[0])\n",
    "#print('adc matrix = ', adc)\n",
    "print('adc.shape = ', adc.shape)\n",
    "adc = np.reshape(adc, (adc.shape[0], 24, 12, 1))\n",
    "print('adc.shape = ', adc.shape)\n",
    "print('tdc.shape = ', tdc.shape)\n",
    "tdc = np.reshape(tdc, (tdc.shape[0], 24, 12, 1))\n",
    "print('tdc.shape = ', tdc.shape)\n",
    "print('hits matrix = ', hits)\n",
    "print('hits.shape = ', hits.shape)"
   ]
  },
  {
   "cell_type": "code",
   "execution_count": 4,
   "metadata": {},
   "outputs": [
    {
     "name": "stdout",
     "output_type": "stream",
     "text": [
      "adc_train.shape, adc_test.shape =  (100000, 24, 12, 1) (400000, 24, 12, 1)\n",
      "tdc_train.shape, tdc_test.shape =  (100000, 24, 12, 1) (400000, 24, 12, 1)\n",
      "hits_train.shape, hits_test.shape =  (100000,) (400000,)\n",
      "Counts =  {0: 50003, 1: 49997}\n"
     ]
    }
   ],
   "source": [
    "#Split data into training and test.\n",
    "\n",
    "adc_train, adc_test, tdc_train, tdc_test, hits_train, hits_test = train_test_split(adc, tdc, hits, test_size=0.80)\n",
    "\n",
    "print('adc_train.shape, adc_test.shape = ', adc_train.shape, adc_test.shape)\n",
    "print('tdc_train.shape, tdc_test.shape = ', tdc_train.shape, tdc_test.shape)\n",
    "print('hits_train.shape, hits_test.shape = ', hits_train.shape, hits_test.shape)\n",
    "#print(adc_train[2])\n",
    "\n",
    "unique, counts = np.unique(hits_train, return_counts=True)\n",
    "counts = dict(zip(unique, counts))\n",
    "print('Counts = ', counts)"
   ]
  },
  {
   "cell_type": "code",
   "execution_count": 5,
   "metadata": {},
   "outputs": [
    {
     "name": "stdout",
     "output_type": "stream",
     "text": [
      "Model: \"sequential_1\"\n",
      "_________________________________________________________________\n",
      "Layer (type)                 Output Shape              Param #   \n",
      "=================================================================\n",
      "conv2d_1 (Conv2D)            (None, 19, 7, 64)         2368      \n",
      "_________________________________________________________________\n",
      "max_pooling2d_1 (MaxPooling2 (None, 19, 7, 64)         0         \n",
      "_________________________________________________________________\n",
      "dropout_1 (Dropout)          (None, 19, 7, 64)         0         \n",
      "_________________________________________________________________\n",
      "flatten_1 (Flatten)          (None, 8512)              0         \n",
      "_________________________________________________________________\n",
      "dense_1 (Dense)              (None, 128)               1089664   \n",
      "_________________________________________________________________\n",
      "dense_2 (Dense)              (None, 64)                8256      \n",
      "_________________________________________________________________\n",
      "dense_3 (Dense)              (None, 1)                 65        \n",
      "=================================================================\n",
      "Total params: 1,100,353\n",
      "Trainable params: 1,100,353\n",
      "Non-trainable params: 0\n",
      "_________________________________________________________________\n"
     ]
    }
   ],
   "source": [
    "model = Sequential() #Define the model object\n",
    "\n",
    "model.add(Conv2D(filters=64,kernel_size=6,activation='relu',input_shape=adc.shape[1:]))#Shape of a single image.\n",
    "model.add(MaxPooling2D(1,1))\n",
    "model.add(Dropout(0.25))\n",
    "model.add(Flatten())\n",
    "model.add(Dense(128, activation='relu'))\n",
    "model.add(Dense(64, activation='relu'))\n",
    "model.add(Dense(1, activation='sigmoid'))\n",
    "model.compile(optimizer='adam',loss='binary_crossentropy',metrics=['accuracy'])\n",
    "#model.compile(optimizers.Adam(lr=0.001),loss='binary_crossentropy',metrics=['accuracy'])\n",
    "\n",
    "\"\"\"\n",
    "model = tf.keras.Sequential() #Define the model object\n",
    "\n",
    "model.add(tf.keras.layers.Conv2D(filters=64,kernel_size=6,activation='relu',input_shape=adc.shape[1:]))#Shape of a single image.\n",
    "model.add(tf.keras.layers.MaxPool2D(1,1))\n",
    "model.add(Dropout(0.25))\n",
    "model.add(tf.keras.layers.Flatten())\n",
    "model.add(tf.keras.layers.Dense(128, activation='relu'))\n",
    "model.add(tf.keras.layers.Dense(64, activation='relu'))\n",
    "model.add(tf.keras.layers.Dense(1, activation='sigmoid'))\n",
    "#model.compile(optimizer='adam',loss='binary_crossentropy',metrics=['accuracy'])\n",
    "model.compile(tf.keras.optimizers.Adam(lr=0.001),loss='binary_crossentropy',metrics=['accuracy'])\n",
    "\"\"\"\n",
    "\n",
    "\"\"\"\n",
    "#Dense NN (not CNN layers).\n",
    "model.add(tf.keras.layers.Dense(128, input_shape=(144,), activation=\"relu\")) #Add the hidden layer\n",
    "model.add(tf.keras.layers.Dense(64, activation=\"relu\"))\n",
    "#model.add(tf.keras.layers.Dense(32, activation=\"relu\"))\n",
    "model.add(tf.keras.layers.Dense(1))\n",
    "\"\"\"\n",
    "\n",
    "#model.compile(tf.keras.optimizers.Adam(lr=0.01),loss=tf.keras.losses.CategoricalCrossentropy()) #Adam optimizer and mean squared error loss\n",
    "#model.compile(tf.keras.optimizers.Adam(lr=0.0001),loss=tf.keras.losses.MeanSquaredError(),metrics=['accuracy'])\n",
    "\n",
    "#Print summary of model.\n",
    "model.summary()"
   ]
  },
  {
   "cell_type": "code",
   "execution_count": null,
   "metadata": {},
   "outputs": [
    {
     "name": "stdout",
     "output_type": "stream",
     "text": [
      "Train on 80000 samples, validate on 20000 samples\n",
      "Epoch 1/10\n",
      "40640/80000 [==============>...............] - ETA: 43s - loss: 0.6915 - accuracy: 0.5194"
     ]
    }
   ],
   "source": [
    "#results = model.fit(adc_train, hits_train, epochs=10, batch_size=64, validation_split=0.05)\n",
    "results = model.fit(tdc_train, hits_train, epochs=10, batch_size=64, validation_split=0.20)\n",
    "\n",
    "#prediction = model.predict()\n",
    "#scores = model.evaluate(adc_test, hits_test)\n",
    "scores = model.evaluate(tdc_test, hits_test)"
   ]
  },
  {
   "cell_type": "code",
   "execution_count": null,
   "metadata": {},
   "outputs": [],
   "source": [
    "print(\"test loss, test acc:\", scores)\n",
    "\n",
    "plot_learning_curve(results.history)"
   ]
  }
 ],
 "metadata": {
  "kernelspec": {
   "display_name": "Python 3",
   "language": "python",
   "name": "python3"
  },
  "language_info": {
   "codemirror_mode": {
    "name": "ipython",
    "version": 3
   },
   "file_extension": ".py",
   "mimetype": "text/x-python",
   "name": "python",
   "nbconvert_exporter": "python",
   "pygments_lexer": "ipython3",
   "version": "3.8.3"
  }
 },
 "nbformat": 4,
 "nbformat_minor": 4
}
