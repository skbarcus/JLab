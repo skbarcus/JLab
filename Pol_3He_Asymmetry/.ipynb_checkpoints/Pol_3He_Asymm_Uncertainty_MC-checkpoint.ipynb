{
 "cells": [
  {
   "cell_type": "code",
   "execution_count": 8,
   "metadata": {},
   "outputs": [],
   "source": [
    "import numpy as np\n",
    "#matplotlib inline\n",
    "import matplotlib.pyplot as plt\n",
    "#Import LMfit to minimize chi^2.\n",
    "import lmfit\n",
    "from lmfit import Minimizer, Parameters, report_fit\n",
    "#from lmfit import minimize, Parameters\n",
    "#Allows me to mess with recursion limit. Default probably 1000. Be careful!\n",
    "import sys \n",
    "# generate random integer values\n",
    "from random import seed\n",
    "from random import random\n",
    "from random import randint\n",
    "#Numpy randoms give all outputs in arrays.\n",
    "# from numpy.random import seed\n",
    "# from numpy.random import randint\n",
    "\n"
   ]
  },
  {
   "cell_type": "code",
   "execution_count": 31,
   "metadata": {},
   "outputs": [
    {
     "name": "stdout",
     "output_type": "stream",
     "text": [
      "dn =  25.337718918639855\n",
      "Asymm =  0.07893370379638578\n",
      "Random n =  640.2545380381612\n"
     ]
    }
   ],
   "source": [
    "#Define constants.\n",
    "n = 642                       #Total number of counts (elastic).\n",
    "dn = n*(1/np.sqrt(642))       #Uncertainty on total number of counts.\n",
    "print('dn = ',dn)\n",
    "Afit = 1                      #Projected asymmetry value from my FF fits. \n",
    "loops = 1000\n",
    "rand_n = []\n",
    "\n",
    "#Define asymmetry with n events with uncertainty dn.\n",
    "def Asymm(n,dn):\n",
    "    asymm = (n/2+dn - (n-(n/2+dn)))/ n\n",
    "    return asymm\n",
    "\n",
    "print('Asymm = ',Asymm(n,dn))\n",
    "\n",
    "np.random.normal(n,dn)\n",
    "print('Random n = ',np.random.normal(n,dn))"
   ]
  },
  {
   "cell_type": "code",
   "execution_count": null,
   "metadata": {},
   "outputs": [],
   "source": [
    "for i in range(1000):\n",
    "    rand_n[i] = np.random.normal(n,dn)\n",
    "    \n",
    "#Create a range to plot from 0-60 fm^-2 in 0.1 increments.\n",
    "r = np.arange(n-n/2, n+n/2, 1)\n"
   ]
  }
 ],
 "metadata": {
  "kernelspec": {
   "display_name": "Python 3",
   "language": "python",
   "name": "python3"
  },
  "language_info": {
   "codemirror_mode": {
    "name": "ipython",
    "version": 3
   },
   "file_extension": ".py",
   "mimetype": "text/x-python",
   "name": "python",
   "nbconvert_exporter": "python",
   "pygments_lexer": "ipython3",
   "version": "3.7.3"
  }
 },
 "nbformat": 4,
 "nbformat_minor": 2
}
