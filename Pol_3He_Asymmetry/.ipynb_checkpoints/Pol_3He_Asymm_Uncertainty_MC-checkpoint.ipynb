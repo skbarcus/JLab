{
 "cells": [
  {
   "cell_type": "code",
   "execution_count": 1,
   "metadata": {},
   "outputs": [],
   "source": [
    "import numpy as np\n",
    "#matplotlib inline\n",
    "import matplotlib.pyplot as plt\n",
    "#Import LMfit to minimize chi^2.\n",
    "import lmfit\n",
    "from lmfit import Minimizer, Parameters, report_fit\n",
    "#from lmfit import minimize, Parameters\n",
    "#Allows me to mess with recursion limit. Default probably 1000. Be careful!\n",
    "import sys \n",
    "# generate random integer values\n",
    "from random import seed\n",
    "from random import random\n",
    "from random import randint\n",
    "#Numpy randoms give all outputs in arrays.\n",
    "# from numpy.random import seed\n",
    "# from numpy.random import randint\n",
    "\n"
   ]
  },
  {
   "cell_type": "code",
   "execution_count": 17,
   "metadata": {},
   "outputs": [
    {
     "name": "stdout",
     "output_type": "stream",
     "text": [
      "dn =  130.831953283592\n",
      "Asymm =  0.015286785451141222\n",
      "Random n =  17138.77755452399\n"
     ]
    }
   ],
   "source": [
    "#Define constants.\n",
    "n = 17117                    #Total number of counts (elastic).\n",
    "dn = n*(1/np.sqrt(n))       #Uncertainty on total number of counts.\n",
    "print('dn = ',dn)\n",
    "Afit = 1                      #Projected asymmetry value from my FF fits. \n",
    "loops = 10000\n",
    "#rand_n = []\n",
    "nbins = 100\n",
    "\n",
    "#Define asymmetry with n events with uncertainty dn.\n",
    "def Asymm(n,dn):\n",
    "    #asymm = (n/2+dn - (n-(n/2+dn)))/ n\n",
    "    asymm = 2*dn/ n\n",
    "    return asymm\n",
    "\n",
    "print('Asymm = ',Asymm(n,dn))\n",
    "\n",
    "np.random.normal(n,dn)\n",
    "print('Random n = ',np.random.normal(n,dn))"
   ]
  },
  {
   "cell_type": "code",
   "execution_count": 6,
   "metadata": {
    "scrolled": true
   },
   "outputs": [
    {
     "ename": "NameError",
     "evalue": "name 'x' is not defined",
     "output_type": "error",
     "traceback": [
      "\u001b[0;31m---------------------------------------------------------------------------\u001b[0m",
      "\u001b[0;31mNameError\u001b[0m                                 Traceback (most recent call last)",
      "\u001b[0;32m<ipython-input-6-b4a38579299b>\u001b[0m in \u001b[0;36m<module>\u001b[0;34m\u001b[0m\n\u001b[1;32m      5\u001b[0m \u001b[0;32mfor\u001b[0m \u001b[0mi\u001b[0m \u001b[0;32min\u001b[0m \u001b[0mrange\u001b[0m\u001b[0;34m(\u001b[0m\u001b[0mloops\u001b[0m\u001b[0;34m)\u001b[0m\u001b[0;34m:\u001b[0m\u001b[0;34m\u001b[0m\u001b[0;34m\u001b[0m\u001b[0m\n\u001b[1;32m      6\u001b[0m     \u001b[0mrand_n\u001b[0m\u001b[0;34m.\u001b[0m\u001b[0mappend\u001b[0m\u001b[0;34m(\u001b[0m\u001b[0mnp\u001b[0m\u001b[0;34m.\u001b[0m\u001b[0mrandom\u001b[0m\u001b[0;34m.\u001b[0m\u001b[0mnormal\u001b[0m\u001b[0;34m(\u001b[0m\u001b[0;36m0\u001b[0m\u001b[0;34m,\u001b[0m\u001b[0mdn\u001b[0m\u001b[0;34m)\u001b[0m\u001b[0;34m)\u001b[0m\u001b[0;34m\u001b[0m\u001b[0;34m\u001b[0m\u001b[0m\n\u001b[0;32m----> 7\u001b[0;31m     \u001b[0mx\u001b[0m\u001b[0;34m.\u001b[0m\u001b[0mappend\u001b[0m\u001b[0;34m(\u001b[0m\u001b[0mi\u001b[0m\u001b[0;34m)\u001b[0m\u001b[0;34m\u001b[0m\u001b[0;34m\u001b[0m\u001b[0m\n\u001b[0m\u001b[1;32m      8\u001b[0m \u001b[0;34m\u001b[0m\u001b[0m\n\u001b[1;32m      9\u001b[0m \u001b[0mprint\u001b[0m\u001b[0;34m(\u001b[0m\u001b[0mloops\u001b[0m\u001b[0;34m)\u001b[0m\u001b[0;34m\u001b[0m\u001b[0;34m\u001b[0m\u001b[0m\n",
      "\u001b[0;31mNameError\u001b[0m: name 'x' is not defined"
     ]
    }
   ],
   "source": [
    "rand_n = []\n",
    "asymm = []\n",
    "\n",
    "#Generate random dn values to form an asymmetry.\n",
    "for i in range(loops):\n",
    "    rand_n.append(np.random.normal(0,dn))\n",
    "    #x.append(i)\n",
    "    \n",
    "print(loops)  \n",
    "print(len(rand_n))\n",
    "print(len(x))\n",
    "#print(rand_n)\n",
    "\n",
    "for i in range(loops):\n",
    "    asymm = Asymm(n,np.asarray(rand_n))\n",
    "    \n",
    "#print(rand_n)\n",
    "print(len(asymm))\n",
    "print('Random asymmetry values = ',asymm)\n",
    "\n",
    "(hn,hbins,patches) = plt.hist(rand_n, nbins)\n",
    "plt.title('Random Offsets dn')\n",
    "plt.xlabel('Offsets (counts)')\n",
    "plt.ylabel('Occurances')\n",
    "plt.show()\n",
    "\n",
    "#print(len(hn))\n",
    "#print(hn)\n",
    "#print(len(hbins))\n",
    "#print(hbins)\n",
    "    \n",
    "(hn_asymm,hbins_asymm,patches_asymm) = plt.hist(asymm, nbins)\n",
    "plt.title('Random Asymmetries')\n",
    "plt.xlabel('Asymmetry')\n",
    "plt.ylabel('Occurances')\n",
    "plt.show()\n",
    "\n",
    "#print(len(hn_asymm))\n",
    "#print(hn_asymm)\n",
    "#print(len(hbins_asymm))\n",
    "#print(hbins_asymm)\n",
    "#print(hbins_asymm[0])\n",
    "    \n",
    "#print('Is hn_asymm a list = ',isinstance(hn_asymm, list))\n",
    "#print('Is x a list = ',isinstance(x, list))\n",
    "#isinstance(x, list)\n",
    "\n",
    "file1 = open(\"Asymmetry_Uncertainty.txt\",\"w\") \n",
    "for i in range(len(hn_asymm)):\n",
    "    file1.write(str((hbins_asymm[i]+hbins_asymm[i+1])/2))\n",
    "    file1.write(' ')\n",
    "    file1.write(str(hn_asymm[i]))\n",
    "    file1.write('\\n')\n",
    "file1.close() \n",
    "\n",
    "x,y = np.loadtxt('Asymmetry_Uncertainty.txt', skiprows=0, unpack=True)\n",
    "#print(x)\n",
    "#print(y)"
   ]
  },
  {
   "cell_type": "code",
   "execution_count": 245,
   "metadata": {},
   "outputs": [
    {
     "name": "stdout",
     "output_type": "stream",
     "text": [
      "[[Model]]\n",
      "    Model(gaussian)\n",
      "[[Fit Statistics]]\n",
      "    # fitting method   = leastsq\n",
      "    # function evals   = 21\n",
      "    # data points      = 100\n",
      "    # variables        = 3\n",
      "    chi-square         = 10212.6225\n",
      "    reduced chi-square = 105.284769\n",
      "    Akaike info crit   = 468.620955\n",
      "    Bayesian info crit = 476.436466\n",
      "[[Variables]]\n",
      "    sigma:      0.01523749 +/- 1.3823e-04 (0.91%) (init = 0.0187462)\n",
      "    center:     1.7161e-04 +/- 1.3823e-04 (80.55%) (init = 0.0005366043)\n",
      "    amplitude:  13.8533188 +/- 0.10883731 (0.79%) (init = 21.25819)\n",
      "    fwhm:       0.03588155 +/- 3.2551e-04 (0.91%) == '2.3548200*sigma'\n",
      "    height:     362.702402 +/- 2.84953691 (0.79%) == '0.3989423*amplitude/max(1.e-15, sigma)'\n",
      "[[Correlations]] (unreported correlations are < 0.250)\n",
      "    C(sigma, amplitude) =  0.577\n",
      "\n"
     ]
    },
    {
     "data": {
      "image/png": "[encoded data removed]",
      "text/plain": [
       "<Figure size 432x288 with 1 Axes>"
      ]
     },
     "metadata": {
      "needs_background": "light"
     },
     "output_type": "display_data"
    }
   ],
   "source": [
    "#Import lmfit Model for the least squares minimization.\n",
    "from lmfit import Model\n",
    "from lmfit.models import GaussianModel\n",
    "mod = GaussianModel()\n",
    "\n",
    "#pars = mod.guess(np.asarray(hn_asymm), np.asarray(x)=np.asarray(x))\n",
    "#out = mod.fit(np.asarray(hn_asymm), pars, np.asarray(x)=np.asarray(x))\n",
    "\n",
    "#isinstance(hn_asymm, list)\n",
    "\n",
    "pars = mod.guess(y, x=x)\n",
    "out = mod.fit(y, pars, x=x)\n",
    "print(out.fit_report(min_correl=0.25))\n",
    "\n",
    "def gaussian(x, mu, sig):\n",
    "    return np.exp(-np.power(x - mu, 2.) / (2 * np.power(sig, 2.)))\n",
    "\n",
    "mu = 0\n",
    "sig = 1\n",
    "\n",
    "#x_values = np.linspace(-1, 1, 100)\n",
    "#plt.plot(x_values, gaussian(x_values, mu, sig))\n",
    "#plt.show()\n",
    "\n",
    "plt.plot(x, out.best_fit, 'r-')\n",
    "plt.hist(asymm, nbins)\n",
    "plt.title('Random Asymmetries: Total Events %.f Count Uncertainty %.3f' %(n,n*(1/np.sqrt(n))))\n",
    "plt.xlabel('Asymmetry')\n",
    "plt.ylabel('Occurances')\n",
    "plt.show()\n",
    "#print(out.variables())"
   ]
  },
  {
   "cell_type": "code",
   "execution_count": null,
   "metadata": {},
   "outputs": [],
   "source": []
  }
 ],
 "metadata": {
  "kernelspec": {
   "display_name": "Python 3",
   "language": "python",
   "name": "python3"
  },
  "language_info": {
   "codemirror_mode": {
    "name": "ipython",
    "version": 3
   },
   "file_extension": ".py",
   "mimetype": "text/x-python",
   "name": "python",
   "nbconvert_exporter": "python",
   "pygments_lexer": "ipython3",
   "version": "3.7.3"
  }
 },
 "nbformat": 4,
 "nbformat_minor": 2
}
