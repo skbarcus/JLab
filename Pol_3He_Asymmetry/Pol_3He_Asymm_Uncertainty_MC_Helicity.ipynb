{
 "cells": [
  {
   "cell_type": "code",
   "execution_count": 1,
   "metadata": {},
   "outputs": [],
   "source": [
    "import numpy as np\n",
    "#matplotlib inline\n",
    "import matplotlib.pyplot as plt\n",
    "#Import LMfit to minimize chi^2.\n",
    "import lmfit\n",
    "from lmfit import Minimizer, Parameters, report_fit\n",
    "from scipy.stats import norm\n",
    "#from lmfit import minimize, Parameters\n",
    "#Allows me to mess with recursion limit. Default probably 1000. Be careful!\n",
    "import sys \n",
    "# generate random integer values\n",
    "from random import seed\n",
    "from random import random\n",
    "from random import randint\n",
    "#Numpy randoms give all outputs in arrays.\n",
    "# from numpy.random import seed\n",
    "# from numpy.random import randint\n"
   ]
  },
  {
   "cell_type": "code",
   "execution_count": 2,
   "metadata": {},
   "outputs": [
    {
     "name": "stdout",
     "output_type": "stream",
     "text": [
      "Asym Components =  [0.13, 1000000, 565000.0, 751.6648189186454, 565377.0122345298, 435000.0, 659.545297913646, 433485.76839904295, 0.13204140387714622]\n"
     ]
    }
   ],
   "source": [
    "#Define constants.\n",
    "A = 0.13\n",
    "N = 1000000\n",
    "loops = 100000\n",
    "#rand_n = []\n",
    "nbins = 100\n",
    "\n",
    "#np.random.normal(n,dn)\n",
    "\n",
    "#Define asymmetry with n events with uncertainty dn.\n",
    "def Asym_Components(A,N):\n",
    "    asym_comp = []\n",
    "    asym_comp.append(A)\n",
    "    asym_comp.append(N)\n",
    "    npos = (A*N+N)/2\n",
    "    asym_comp.append(npos)\n",
    "    dnpos = npos*(1/np.sqrt(npos))\n",
    "    asym_comp.append(dnpos)\n",
    "    #Now choose how much the pos helicity value will be off by using a Gaussian centered on npos (the uncertainty on pos helicity counts) with a standard deviation of dnpos.\n",
    "    npos_rand = np.random.normal(npos,dnpos)\n",
    "    asym_comp.append(npos_rand)\n",
    "    nneg = N-npos\n",
    "    asym_comp.append(nneg)\n",
    "    dnneg = nneg*(1/np.sqrt(nneg))\n",
    "    asym_comp.append(dnneg)\n",
    "    #Now choose how much the neg helicity value will be off by using a Gaussian centered on nneg (the uncertainty on pos helicity counts) with a standard deviation of dnneg.\n",
    "    nneg_rand = np.random.normal(nneg,dnneg)\n",
    "    asym_comp.append(nneg_rand)\n",
    "    asym_rand = (npos_rand-nneg_rand)/(npos_rand+nneg_rand)\n",
    "    asym_comp.append(asym_rand)\n",
    "    return asym_comp\n",
    "\n",
    "print('Asym Components = ',Asym_Components(A,N))\n",
    "\n",
    "#np.random.normal(n,dn)\n",
    "#print('Random n = ',np.random.normal(n,dn))"
   ]
  },
  {
   "cell_type": "code",
   "execution_count": 3,
   "metadata": {},
   "outputs": [
    {
     "data": {
      "image/png": "[encoded data removed]",
      "text/plain": [
       "<Figure size 432x288 with 1 Axes>"
      ]
     },
     "metadata": {
      "needs_background": "light"
     },
     "output_type": "display_data"
    }
   ],
   "source": [
    "asym_vals = []\n",
    "\n",
    "#Generate a bunch of asymmetries with the counting uncertainty on +/- helicity.\n",
    "for i in range(loops):\n",
    "    asym_val = Asym_Components(A,N)\n",
    "    asym_vals.append(asym_val[8])\n",
    "    \n",
    "#print(asym_vals)\n",
    "\n",
    "#mu, std = norm.fit(asym_vals)\n",
    "#print(mu,std)\n",
    "\n",
    "# Plot the PDF.\n",
    "#xmin = -0.01\n",
    "#xmax = 0.05\n",
    "#x = np.linspace(xmin, xmax, 1000)\n",
    "#p = norm.pdf(x, mu, std)\n",
    "#plt.plot(x, p, 'k', linewidth=2)\n",
    "\n",
    "x,y = np.loadtxt('Asymmetry_Uncertainty_Helicity.txt', skiprows=0, unpack=True)\n",
    "\n",
    "(hn,hbins,patches) = plt.hist(asym_vals, nbins)\n",
    "\n",
    "file1 = open(\"Asymmetry_Uncertainty_Helicity.txt\",\"w\") \n",
    "for i in range(len(hn)):\n",
    "    file1.write(str((hbins[i]+hbins[i+1])/2))\n",
    "    file1.write(' ')\n",
    "    file1.write(str(hn[i]))\n",
    "    file1.write('\\n')\n",
    "file1.close() \n",
    "\n",
    "plt.title('Random Offsets dn')\n",
    "plt.xlabel('Offsets (counts)')\n",
    "plt.ylabel('Occurances')\n",
    "plt.show()"
   ]
  },
  {
   "cell_type": "code",
   "execution_count": 4,
   "metadata": {},
   "outputs": [
    {
     "name": "stdout",
     "output_type": "stream",
     "text": [
      "[[Model]]\n",
      "    Model(gaussian)\n",
      "[[Fit Statistics]]\n",
      "    # fitting method   = leastsq\n",
      "    # function evals   = 17\n",
      "    # data points      = 100\n",
      "    # variables        = 3\n",
      "    chi-square         = 90732.1965\n",
      "    reduced chi-square = 935.383469\n",
      "    Akaike info crit   = 687.049737\n",
      "    Bayesian info crit = 694.865247\n",
      "[[Variables]]\n",
      "    sigma:      9.9490e-04 +/- 2.7344e-06 (0.27%) (init = 0.001134507)\n",
      "    center:     0.12999716 +/- 2.7344e-06 (0.00%) (init = 0.1300232)\n",
      "    amplitude:  8.73078055 +/- 0.02078091 (0.24%) (init = 11.95317)\n",
      "    fwhm:       0.00234280 +/- 6.4390e-06 (0.27%) == '2.3548200*sigma'\n",
      "    height:     3500.94317 +/- 8.33289089 (0.24%) == '0.3989423*amplitude/max(1.e-15, sigma)'\n",
      "[[Correlations]] (unreported correlations are < 0.250)\n",
      "    C(sigma, amplitude) =  0.577\n",
      "\n"
     ]
    },
    {
     "data": {
      "image/png": "[encoded data removed]",
      "text/plain": [
       "<Figure size 432x288 with 1 Axes>"
      ]
     },
     "metadata": {
      "needs_background": "light"
     },
     "output_type": "display_data"
    }
   ],
   "source": [
    "#Import lmfit Model for the least squares minimization.\n",
    "from lmfit import Model\n",
    "from lmfit.models import GaussianModel\n",
    "mod = GaussianModel()\n",
    "\n",
    "pars = mod.guess(y, x=x)\n",
    "out = mod.fit(y, pars, x=x)\n",
    "print(out.fit_report(min_correl=0.25))\n",
    "\n",
    "#def gaussian(x, mu, sig):\n",
    "#    return np.exp(-np.power(x - mu, 2.) / (2 * np.power(sig, 2.)))\n",
    "\n",
    "#mu = A\n",
    "#sig = 0.01\n",
    "\n",
    "plt.plot(x, out.best_fit, 'r-')\n",
    "plt.hist(asym_vals, nbins)\n",
    "plt.title('Randomized Asymmetries: A = %.3f Total Events %.f' %(A,N))\n",
    "plt.xlabel('Asymmetry')\n",
    "plt.ylabel('Occurances')\n",
    "plt.show()"
   ]
  },
  {
   "cell_type": "code",
   "execution_count": null,
   "metadata": {},
   "outputs": [],
   "source": []
  },
  {
   "cell_type": "code",
   "execution_count": null,
   "metadata": {},
   "outputs": [],
   "source": []
  }
 ],
 "metadata": {
  "kernelspec": {
   "display_name": "Python 3",
   "language": "python",
   "name": "python3"
  },
  "language_info": {
   "codemirror_mode": {
    "name": "ipython",
    "version": 3
   },
   "file_extension": ".py",
   "mimetype": "text/x-python",
   "name": "python",
   "nbconvert_exporter": "python",
   "pygments_lexer": "ipython3",
   "version": "3.7.3"
  }
 },
 "nbformat": 4,
 "nbformat_minor": 2
}
