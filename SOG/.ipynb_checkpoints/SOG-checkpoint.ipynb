{
 "cells": [
  {
   "cell_type": "code",
   "execution_count": 60,
   "metadata": {},
   "outputs": [
    {
     "name": "stdout",
     "output_type": "stream",
     "text": [
      "(0.1, 0.5, 0.9, 1.3, 1.7000000000000002, 2.1, 2.4, 3.0, 3.5, 4.1, 4.6, 5.1)\n"
     ]
    }
   ],
   "source": [
    "import numpy as np\n",
    "#matplotlib inline\n",
    "import matplotlib.pyplot as plt\n",
    "#Import LMfit to minimize chi^2.\n",
    "import lmfit\n",
    "from lmfit import Minimizer, Parameters, report_fit\n",
    "#from lmfit import minimize, Parameters\n",
    "#Allows me to mess with recursion limit. Default probably 1000. Be careful!\n",
    "import sys \n",
    "# generate random integer values\n",
    "from random import seed\n",
    "from random import random\n",
    "from random import randint\n",
    "#Numpy randoms give all outputs in arrays.\n",
    "# from numpy.random import seed\n",
    "# from numpy.random import randint\n",
    "\n",
    "#Constants\n",
    "pi = 3.141592654\n",
    "deg2rad = pi/180.0\n",
    "GeV2fm = 1./0.0389                  #Convert Q^2 units from GeV^2 to fm^-2.\n",
    "hbar = 6.582*np.power(10.0,-16.0)   #hbar in [eV*s].\n",
    "alpha = 0.0072973525664             #Fine structure constant.\n",
    "C = 299792458.0                     #Speed of light [m/s].\n",
    "e = 1.60217662E-19                  #Electron charge [C].\n",
    "e2_nuclear = 1.4399643929e-3        #Electron charge squared in nuclear units [GeV * fm].\n",
    "MtHe3 = 3.0160293*0.9315            #Mass of He3 in GeV.\n",
    "muHe3 = -2.1275*(3.0/2.0)           #Magnetic moment of 3He.\n",
    "Z = 2                               #Atomic number of 3He.\n",
    "A = 3                               #Number of nucleons.\n",
    "gamma = 0.8*np.power(2.0/3.0,0.5);  #Gaussian width [fm] from Amroun gamma*sqrt(3/2) = 0.8 fm.\n",
    "\n",
    "#Flags and Variables that are often modified.\n",
    "ngaus = 12                          #Number of Guassians in fit.\n",
    "print_data = 0                      #Prints experimental data.\n",
    "print_XS_debug = 0                  #Prints individual parts of XS calculation.\n",
    "force_Fch_1 = 1                     #Forces the sum of the Qich to equal 1.\n",
    "force_Fm_1 = 1                      #Forces the sum of the Qim to equal 1.\n",
    "use_rand = 1                        #Use semi-random starting Ri vlues.\n",
    "\n",
    "if use_rand == 1:\n",
    "    #Generate semi-random starting Ri values.\n",
    "    R0 = randint(0, 3)/10\n",
    "    if R0 == 0:\n",
    "        R0 = 0.01\n",
    "        R1 = randint(3, 4)/10\n",
    "    else:\n",
    "        R1 = randint(3, 4)/10 + R0 \n",
    "    R2 = randint(3, 4)/10 + R1\n",
    "    R3 = randint(3, 4)/10 + R2\n",
    "    R4 = randint(3, 4)/10 + R3\n",
    "    R5 = randint(3, 4)/10 + R4\n",
    "    R6 = randint(3, 4)/10 + R5\n",
    "    R7 = randint(5, 6)/10 + R6\n",
    "    R8 = randint(5, 6)/10 + R7\n",
    "    R9 = randint(5, 6)/10 + R8\n",
    "    R10 = randint(5, 6)/10 + R9\n",
    "    R11 = randint(5, 6)/10 + R10\n",
    "    R = (R0,R1,R2,R3,R4,R5,R6,R7,R8,R9,R10,R11)\n",
    "    \n",
    "    \n",
    "#    R = (0,0,0,0,0,0,0,0,0,0,0,0)\n",
    "#     R = (randint(1, 10)/10,\n",
    "#          randint(1, 10)/10+R[1],\n",
    "#          randint(1, 10)/10,\n",
    "#          randint(1, 10)/10,\n",
    "#          randint(1, 10)/10,\n",
    "#          randint(1, 10)/10,\n",
    "#          randint(1, 10)/10,\n",
    "#          randint(1, 10)/10,\n",
    "#          randint(1, 10)/10,\n",
    "#          randint(1, 10)/10,\n",
    "#          randint(1, 10)/10,\n",
    "#          randint(1, 10)/10)\n",
    "    #R[0] = 5\n",
    "    #R[1] = 7\n",
    "    print(R)\n",
    "    #print(sum(R))\n",
    "#Otherwise use a given set of Ri values.\n",
    "else:\n",
    "    R = (0.3,0.7,0.9,1.1,1.5,1.6,2.2,2.7,3.3,4.2,4.3,4.8)\n",
    "\n",
    "#Read in data file with cross section world data.\n",
    "E0,theta,sigexp,uncertainty,dataset = np.loadtxt('3He_Data.txt', skiprows=2, unpack=True)\n",
    "#Print data file.\n",
    "if print_data == 1:\n",
    "    print(E0)\n",
    "    print(theta)\n",
    "    print(sigexp)\n",
    "    print(uncertainty)\n",
    "    print(dataset)\n",
    "\n",
    "#Define charge form factor function.\n",
    "def Fch(Q2eff,Qich,R):\n",
    "    sumFch_ff = 0\n",
    "    Fch_ff = 0\n",
    "    for i in range(ngaus):\n",
    "        sumFch_ff = (Qich[i]/(1.0+2.0*np.power(R[i],2.0)/np.power(gamma,2.0))) * ( np.cos(np.power(Q2eff,0.5)*R[i]) + (2.0*np.power(R[i],2.0)/np.power(gamma,2.0)) * (np.sin(np.power(Q2eff,0.5)*R[i])/(np.power(Q2eff,0.5)*R[i])) )\n",
    "        Fch_ff = Fch_ff + sumFch_ff\n",
    "    Fch_ff =  Fch_ff * np.exp(-0.25*Q2eff*np.power(gamma,2.0))\n",
    "    return Fch_ff\n",
    "\n",
    "#Define magnetic form factor function.\n",
    "def Fm(Q2eff,Qim,R):\n",
    "    sumFm_ff = 0\n",
    "    Fm_ff = 0\n",
    "    for i in range(ngaus):\n",
    "        sumFm_ff = (Qim[i]/(1.0+2.0*np.power(R[i],2.0)/np.power(gamma,2.0))) * ( np.cos(np.power(Q2eff,0.5)*R[i]) + (2.0*np.power(R[i],2.0)/np.power(gamma,2.0)) * (np.sin(np.power(Q2eff,0.5)*R[i])/(np.power(Q2eff,0.5)*R[i])) )\n",
    "        Fm_ff = Fm_ff + sumFm_ff\n",
    "    Fm_ff =  Fm_ff * np.exp(-0.25*Q2eff*np.power(gamma,2.0))\n",
    "    return Fm_ff\n",
    "\n",
    "#Define cross section function. Takes in E0 and theta along with free parameters Qich and Qim.\n",
    "def XS(E0,theta,Q0ch,Q1ch,Q2ch,Q3ch,Q4ch,Q5ch,Q6ch,Q7ch,Q8ch,Q9ch,Q10ch,Q11ch,Q0m,Q1m,Q2m,Q3m,Q4m,Q5m,Q6m,Q7m,Q8m,Q9m,Q10m,Q11m):\n",
    "    \n",
    "    params = [Q0ch,Q1ch,Q2ch,Q3ch,Q4ch,Q5ch,Q6ch,Q7ch,Q8ch,Q9ch,Q10ch,Q11ch,Q0m,Q1m,Q2m,Q3m,Q4m,Q5m,Q6m,Q7m,Q8m,Q9m,Q10m,Q11m]\n",
    "    \n",
    "    #Define variables needed to get XS.\n",
    "    Ef = E0/(1.0+2.0*E0*np.power(np.sin(theta*deg2rad/2.0),2.0)/MtHe3)     #Scattered electron energy (GeV).\n",
    "    Q2 = 4.0*E0*Ef*np.power(np.sin(theta*deg2rad/2.0),2.0) * GeV2fm        #Squared four-momentum (fm^-2).\n",
    "    Q2eff = np.power( np.power(Q2,0.5) * (1.0+(1.5*Z*alpha)/(E0*np.power(GeV2fm,0.5)*1.12*np.power(A,1.0/3.0))) ,2.0)  #Effective Q^2 (fm^-2).\n",
    "    W = E0 - Ef                                                         #Energy transfer (GeV).\n",
    "    q2_3 = abs(  np.power(W,2.0)*GeV2fm - Q2eff  )                      #Three-momentum squared (fm^-2).\n",
    "    eta = 1.0 + Q2eff/(4.0*np.power(MtHe3,2.0)*GeV2fm)                  #Constant eta from Rosenbluth equation in Amroun 1994.\n",
    "    #Mott XS (fm^-2).\n",
    "    mottxs = (  (np.power(Z,2.)*(Ef/E0)) * (np.power(alpha,2.0)/(4.0*np.power(E0,2.0)*np.power(np.sin(theta*deg2rad/2.0),4.0)))*np.power(np.cos(theta*deg2rad/2.0),2.0)  ) * 1.0/25.7\n",
    "    \n",
    "    #Loop to sum the charge form factor.\n",
    "    Fch_xs = 0\n",
    "    for i in range(ngaus):\n",
    "        sumFch_xs = (params[i]/(1.0+2.0*np.power(R[i],2.0)/np.power(gamma,2.0))) * ( np.cos(np.power(Q2eff,0.5)*R[i]) + (2.0*np.power(R[i],2.0)/np.power(gamma,2.0)) * (np.sin(np.power(Q2eff,0.5)*R[i])/(np.power(Q2eff,0.5)*R[i])) )\n",
    "        Fch_xs = Fch_xs +sumFch_xs\n",
    "    Fch_xs =  Fch_xs * np.exp(-0.25*Q2eff*np.power(gamma,2.0))\n",
    "        \n",
    "    #Loop to sum the magnetic form factor.\n",
    "    Fm = 0\n",
    "    for i in range(ngaus):\n",
    "        sumFm = (params[i+ngaus]/(1.0+2.0*np.power(R[i],2.0)/np.power(gamma,2.0))) * ( np.cos(np.power(Q2eff,0.5)*R[i]) + (2.0*np.power(R[i],2.0)/np.power(gamma,2.0)) * (np.sin(np.power(Q2eff,0.5)*R[i])/(np.power(Q2eff,0.5)*R[i])) )\n",
    "        Fm = Fm +sumFm\n",
    "    Fm =  Fm * np.exp(-0.25*Q2eff*np.power(gamma,2.0))\n",
    "    \n",
    "    #Calculate full cross section.\n",
    "    XS = mottxs * (1./eta) * ( (Q2eff/q2_3)*np.power(Fch_xs,2.) + (np.power(muHe3,2.0)*Q2eff/(2*np.power(MtHe3,2)*GeV2fm))*(0.5*Q2eff/q2_3 + np.power(np.tan(theta*deg2rad/2),2))*np.power(Fm,2.) )\n",
    "    \n",
    "    if print_XS_debug == 1:\n",
    "        print('Ef = ',Ef)\n",
    "        print('Q^2 = ',Q2)\n",
    "        print('Q^2 Effective = ',Q2eff)\n",
    "        print('W = ',W)\n",
    "        print('Three-momentum Squared = ',q2_3)\n",
    "        print('eta = ',eta)\n",
    "        print('Mott XS = ',mottxs)\n",
    "        print('Fch = ',Fch)\n",
    "        print('Fm = ',Fm)\n",
    "        print('XS = ',XS)\n",
    "    \n",
    "    return XS"
   ]
  },
  {
   "cell_type": "code",
   "execution_count": 61,
   "metadata": {},
   "outputs": [],
   "source": [
    "#Import lmfit Model for the least squares minimization.\n",
    "from lmfit import Model"
   ]
  },
  {
   "cell_type": "code",
   "execution_count": 113,
   "metadata": {},
   "outputs": [],
   "source": [
    "#pars = Parameters()\n",
    "\n",
    "#Set up a model using the XS equation with two independednt variables E0 and theta.\n",
    "model=Model(XS, independent_vars=['E0','theta'])\n",
    "\n",
    "#pars = model.make_params()\n",
    "\n",
    "#Create a set of parameters.\n",
    "pars = Parameters()\n",
    "\n",
    "#Provide the names, initial values, and bounds of parameters.\n",
    "pars.add('Q0ch', value=0.0996392, min=0, max=1.0)\n",
    "pars.add('Q1ch', value=0.214304, min=0, max=1.0)\n",
    "pars.add('Q2ch', value=0.0199385, min=0, max=1.0)\n",
    "pars.add('Q3ch', value=0.195676, min=0, max=1.0)\n",
    "pars.add('Q4ch', value=0.0785533, min=0, max=1.0)\n",
    "pars.add('Q5ch', value=0.167223, min=0, max=1.0)\n",
    "pars.add('Q6ch', value=0.126926, min=0, max=1.0)\n",
    "pars.add('Q7ch', value=0.0549379, min=0, max=1.0)\n",
    "pars.add('Q8ch', value=0.0401401, min=0, max=1.0)\n",
    "pars.add('Q9ch', value=0.0100803, min=0, max=1.0)\n",
    "pars.add('Q10ch', value=0.0007217, min=0, max=1.0)\n",
    "pars.add('Q11ch', value=4.98962e-12, min=0, max=1.0)\n",
    "pars.add('Q0m', value=0.159649, min=0, max=1.0)\n",
    "pars.add('Q1m', value=0.0316168, min=0, max=1.0)\n",
    "pars.add('Q2m', value=0.277843, min=0, max=1.0)\n",
    "pars.add('Q3m', value=0.0364955, min=0, max=1.0)\n",
    "pars.add('Q4m', value=0.0329718, min=0, max=1.0)\n",
    "pars.add('Q5m', value=0.233469, min=0, max=1.0)\n",
    "pars.add('Q6m', value=0.117059, min=0, max=1.0)\n",
    "pars.add('Q7m', value=0.0581085, min=0, max=1.0)\n",
    "pars.add('Q8m', value=0.0485212, min=0, max=1.0)\n",
    "pars.add('Q9m', value=1.77602e-12, min=0, max=1.0)\n",
    "pars.add('Q10m', value=0.0240927, min=0, max=1.0)\n",
    "pars.add('Q11m', value=8.94934e-12, min=0, max=1.0)\n",
    "#pars.add('sumch', value=1,vary=0)\n",
    "#pars.add('sumch', expr='1-Q0ch-Q1ch')\n",
    "#pars.add('sumch', expr='1-Q0ch-Q1ch-Q2ch-Q3ch-Q4ch-Q5ch-Q6ch-Q7ch-Q8ch-Q9ch-Q10ch-Q11ch')\n",
    "#pars.add('Q0ch', expr='1-Q1ch-Q2ch-Q3ch-Q4ch-Q5ch-Q6ch-Q7ch-Q8ch-Q9ch-Q10ch-Q11ch')\n",
    "\n",
    "#Add a relation forcing the sum Qich = 1. Has dependence on which variable you force equal to (1-the others). \n",
    "if force_Fch_1 == 1:\n",
    "    pars.add('Q1ch', expr='1-Q0ch-Q2ch-Q3ch-Q4ch-Q5ch-Q6ch-Q7ch-Q8ch-Q9ch-Q10ch-Q11ch')\n",
    "    #pars.add('Q1ch', expr='1-Q0ch-Q2ch-Q3ch-Q4ch-Q5ch-Q6ch-Q7ch-Q8ch-Q9ch-Q10ch-Q11ch') #Defining two pars as the sum equalling 1 leads to a recursion error.\n",
    "    #pars.add('Q11ch', expr='1-Q0ch-Q1ch-Q2ch-Q3ch-Q4ch-Q5ch-Q6ch-Q7ch-Q8ch-Q9ch-Q10ch')\n",
    "    #pars.add('Q11ch', min=0, max=1.0, expr='1-Q0ch-Q1ch-Q2ch-Q3ch-Q4ch-Q5ch-Q6ch-Q7ch-Q8ch-Q9ch-Q10ch')\n",
    "    \n",
    "#Add a relation forcing the sum Qim = 1. Has dependence on which variable you force equal to (1-the others). \n",
    "if force_Fm_1 == 1:\n",
    "    pars.add('Q0m', expr='1-Q1m-Q2m-Q3m-Q4m-Q5m-Q6m-Q7m-Q8m-Q9m-Q10m-Q11m')\n",
    "\n",
    "#pars = model.make_params()\n",
    "\n",
    "# model.set_param_hint('Q0ch', value=0.0896392, min=0, max=1.0)\n",
    "# model.set_param_hint('Q1ch', value=0.214304, min=0, max=1.0)\n",
    "# model.set_param_hint('Q2ch', value=0.0199385, min=0, max=1.0)\n",
    "# model.set_param_hint('Q3ch', value=0.195676, min=0, max=1.0)\n",
    "# model.set_param_hint('Q4ch', value=0.0785533, min=0, max=1.0)\n",
    "# model.set_param_hint('Q5ch', value=0.167223, min=0, max=1.0)\n",
    "# model.set_param_hint('Q6ch', value=0.126926, min=0, max=1.0)\n",
    "# model.set_param_hint('Q7ch', value=0.0549379, min=0, max=1.0)\n",
    "# model.set_param_hint('Q8ch', value=0.0401401, min=0, max=1.0)\n",
    "# model.set_param_hint('Q9ch', value=0.0100803, min=0, max=1.0)\n",
    "# model.set_param_hint('Q10ch', value=0.0007217, min=0, max=1.0)\n",
    "# model.set_param_hint('Q11ch', value=4.98962e-12, min=0, max=1.0)\n",
    "# model.set_param_hint('Q0m', value=0.159649, min=0, max=1.0)\n",
    "# model.set_param_hint('Q1m', value=0.0316168, min=0, max=1.0)\n",
    "# model.set_param_hint('Q2m', value=0.277843, min=0, max=1.0)\n",
    "# model.set_param_hint('Q3m', value=0.0364955, min=0, max=1.0)\n",
    "# model.set_param_hint('Q4m', value=0.0329718, min=0, max=1.0)\n",
    "# model.set_param_hint('Q5m', value=0.233469, min=0, max=1.0)\n",
    "# model.set_param_hint('Q6m', value=0.117059, min=0, max=1.0)\n",
    "# model.set_param_hint('Q7m', value=0.0581085, min=0, max=1.0)\n",
    "# model.set_param_hint('Q8m', value=0.0485212, min=0, max=1.0)\n",
    "# model.set_param_hint('Q9m', value=1.77602e-12, min=0, max=1.0)\n",
    "# model.set_param_hint('Q10m', value=0.0240927, min=0, max=1.0)\n",
    "# model.set_param_hint('Q11m', value=8.94934e-12, min=0, max=1.0)\n",
    "\n",
    "#pars = model.make_params()"
   ]
  },
  {
   "cell_type": "code",
   "execution_count": 114,
   "metadata": {},
   "outputs": [
    {
     "name": "stdout",
     "output_type": "stream",
     "text": [
      "['E0', 'theta']\n"
     ]
    }
   ],
   "source": [
    "#sys.setrecursionlimit(20000)  #Ups Python recursion limit, but even at 20000 trying to set Q0ch and Q1ch with all vars sum to one kills the kernel.\n",
    "#result=model.fit(sigexp,E0=E0,theta=theta,Q0ch=0.0896392,Q1ch=0.214304,Q2ch=0.0199385,Q3ch=0.195676,Q4ch=0.0785533,Q5ch=0.167223,Q6ch=0.126926,Q7ch=0.0549379,Q8ch=0.0401401,Q9ch=0.0100803,Q10ch=0.0007217,Q11ch=4.98962e-12,Q0m=0.159649,Q1m=0.0316168,Q2m=0.277843,Q3m=0.0364955,Q4m=0.0329718,Q5m=0.233469,Q6m=0.117059,Q7m=0.0581085,Q8m=0.0485212,Q9m=1.77602e-12,Q10m=0.0240927,Q11m=8.94934e-12,weights=1/uncertainty)\n",
    "#result=model.fit(sigexp,E0=E0,theta=theta,pars) #Bad\n",
    "#result=model.fit(sigexp,E0=E0,theta=theta,Q0ch,Q1ch=0.214304,Q2ch=0.0199385,Q3ch=0.195676,Q4ch=0.0785533,Q5ch=0.167223,Q6ch=0.126926,Q7ch=0.0549379,Q8ch=0.0401401,Q9ch=0.0100803,Q10ch=0.0007217,Q11ch=4.98962e-12,Q0m=0.159649,Q1m=0.0316168,Q2m=0.277843,Q3m=0.0364955,Q4m=0.0329718,Q5m=0.233469,Q6m=0.117059,Q7m=0.0581085,Q8m=0.0485212,Q9m=1.77602e-12,Q10m=0.0240927,Q11m=8.94934e-12,weights=1/uncertainty)\n",
    "\n",
    "#Perform a least squares minimization fit on the XS (sigexp) data using E0 and theta as independent variables.\n",
    "#The weights are given as 1/uncertainty.\n",
    "result=model.fit(sigexp,pars,E0=E0,theta=theta,weights=1/uncertainty)\n",
    "#Print model independent variables.\n",
    "print(model.independent_vars)\n",
    "#pars.pretty_print()\n",
    "\n",
    "#Implement Ri optimization."
   ]
  },
  {
   "cell_type": "code",
   "execution_count": 115,
   "metadata": {
    "scrolled": false
   },
   "outputs": [
    {
     "name": "stdout",
     "output_type": "stream",
     "text": [
      "[[Model]]\n",
      "    Model(XS)\n",
      "[[Fit Statistics]]\n",
      "    # fitting method   = leastsq\n",
      "    # function evals   = 29703\n",
      "    # data points      = 259\n",
      "    # variables        = 22\n",
      "    chi-square         = 560.176867\n",
      "    reduced chi-square = 2.36361547\n",
      "    Akaike info crit   = 243.798947\n",
      "    Bayesian info crit = 322.049164\n",
      "##  Warning: uncertainties could not be estimated:\n",
      "    Q6ch:   at boundary\n",
      "    Q9ch:   at boundary\n",
      "    Q10ch:  at boundary\n",
      "    Q11ch:  at initial value\n",
      "    Q11ch:  at boundary\n",
      "[[Variables]]\n",
      "    Q0ch:   0.07694067 (init = 0.0996392)\n",
      "    Q1ch:   0.11221131 == '1-Q0ch-Q2ch-Q3ch-Q4ch-Q5ch-Q6ch-Q7ch-Q8ch-Q9ch-Q10ch-Q11ch'\n",
      "    Q2ch:   0.18525100 (init = 0.0199385)\n",
      "    Q3ch:   0.27019413 (init = 0.195676)\n",
      "    Q4ch:   0.14930361 (init = 0.0785533)\n",
      "    Q5ch:   0.10293006 (init = 0.167223)\n",
      "    Q6ch:   1.1102e-16 (init = 0.126926)\n",
      "    Q7ch:   0.07996055 (init = 0.0549379)\n",
      "    Q8ch:   0.02320869 (init = 0.0401401)\n",
      "    Q9ch:   5.5511e-17 (init = 0.0100803)\n",
      "    Q10ch:  1.1102e-16 (init = 0.0007217)\n",
      "    Q11ch:  5.5511e-17 (init = 4.98962e-12)\n",
      "    Q0m:    0.06090985 == '1-Q1m-Q2m-Q3m-Q4m-Q5m-Q6m-Q7m-Q8m-Q9m-Q10m-Q11m'\n",
      "    Q1m:    0.15464969 (init = 0.0316168)\n",
      "    Q2m:    0.22874143 (init = 0.277843)\n",
      "    Q3m:    0.15619185 (init = 0.0364955)\n",
      "    Q4m:    0.16863628 (init = 0.0329718)\n",
      "    Q5m:    0.09639375 (init = 0.233469)\n",
      "    Q6m:    0.03863950 (init = 0.117059)\n",
      "    Q7m:    0.07163874 (init = 0.0581085)\n",
      "    Q8m:    0.01353097 (init = 0.0485212)\n",
      "    Q9m:    4.8250e-04 (init = 1.77602e-12)\n",
      "    Q10m:   0.00477640 (init = 0.0240927)\n",
      "    Q11m:   0.00540903 (init = 8.94934e-12)\n",
      "\n"
     ]
    }
   ],
   "source": [
    "#Print the results of the model fit.\n",
    "print(result.fit_report())"
   ]
  },
  {
   "cell_type": "code",
   "execution_count": 116,
   "metadata": {},
   "outputs": [
    {
     "name": "stdout",
     "output_type": "stream",
     "text": [
      "[0.0769406670989638, 0.11221131303805565, 0.18525099524054855, 0.2701941269820479, 0.14930361087141264, 0.10293005559843604, 1.1102230246251565e-16, 0.07996054571659633, 0.02320868545393867, 5.551115123125783e-17, 1.1102230246251565e-16, 5.551115123125783e-17]\n",
      "[0.06090985307234925, 0.1546496894043063, 0.22874143208176811, 0.15619185081437248, 0.16863628457368507, 0.09639375200309325, 0.03863949586770726, 0.07163874068096587, 0.01353096542661697, 0.0004825024612484796, 0.004776403101250881, 0.005409030512636026]\n",
      "[0.0996392, 0.2061639999950104, 0.0199385, 0.195676, 0.0785533, 0.167223, 0.126926, 0.0549379, 0.0401401, 0.0100803, 0.0007217, 4.98962e-12]\n",
      "[0.13982249998927462, 0.0316168, 0.277843, 0.0364955, 0.0329718, 0.233469, 0.117059, 0.0581085, 0.0485212, 1.77602e-12, 0.0240927, 8.94934e-12]\n",
      "Sum of Electric Charges =  1.0\n",
      "Sum of Magnetic Charges =  1.0\n"
     ]
    }
   ],
   "source": [
    "#Print out the Qi fit parameters.\n",
    "Qich = [result.best_values['Q0ch'],result.best_values['Q1ch'],result.best_values['Q2ch'],result.best_values['Q3ch'],result.best_values['Q4ch'],result.best_values['Q5ch'],result.best_values['Q6ch'],result.best_values['Q7ch'],result.best_values['Q8ch'],result.best_values['Q9ch'],result.best_values['Q10ch'],result.best_values['Q11ch']]\n",
    "print(Qich)\n",
    "Qim = [result.best_values['Q0m'],result.best_values['Q1m'],result.best_values['Q2m'],result.best_values['Q3m'],result.best_values['Q4m'],result.best_values['Q5m'],result.best_values['Q6m'],result.best_values['Q7m'],result.best_values['Q8m'],result.best_values['Q9m'],result.best_values['Q10m'],result.best_values['Q11m']]\n",
    "print(Qim)\n",
    "Qich_init = [result.init_values['Q0ch'],result.init_values['Q1ch'],result.init_values['Q2ch'],result.init_values['Q3ch'],result.init_values['Q4ch'],result.init_values['Q5ch'],result.init_values['Q6ch'],result.init_values['Q7ch'],result.init_values['Q8ch'],result.init_values['Q9ch'],result.init_values['Q10ch'],result.init_values['Q11ch']]\n",
    "print(Qich_init)\n",
    "Qim_init = [result.init_values['Q0m'],result.init_values['Q1m'],result.init_values['Q2m'],result.init_values['Q3m'],result.init_values['Q4m'],result.init_values['Q5m'],result.init_values['Q6m'],result.init_values['Q7m'],result.init_values['Q8m'],result.init_values['Q9m'],result.init_values['Q10m'],result.init_values['Q11m']]\n",
    "print(Qim_init)\n",
    "\n",
    "#Print sums of the Qi fit parameters.\n",
    "print('Sum of Electric Charges = ',sum(Qich))\n",
    "print('Sum of Magnetic Charges = ',sum(Qim))"
   ]
  },
  {
   "cell_type": "code",
   "execution_count": 117,
   "metadata": {
    "scrolled": false
   },
   "outputs": [
    {
     "name": "stderr",
     "output_type": "stream",
     "text": [
      "/home/skbarcus/anaconda3/lib/python3.7/site-packages/ipykernel_launcher.py:96: RuntimeWarning: invalid value encountered in true_divide\n",
      "/home/skbarcus/anaconda3/lib/python3.7/site-packages/ipykernel_launcher.py:106: RuntimeWarning: invalid value encountered in true_divide\n"
     ]
    },
    {
     "data": {
      "image/png": "[encoded data removed]",
      "text/plain": [
       "<Figure size 1440x720 with 2 Axes>"
      ]
     },
     "metadata": {
      "needs_background": "light"
     },
     "output_type": "display_data"
    }
   ],
   "source": [
    "#Create a range to plot from 0-60 fm^-2 in 0.1 increments.\n",
    "r = np.arange(0, 60, 0.1)\n",
    "#fig = plt.figure()\n",
    "#plt.figure(1)\n",
    "\n",
    "#Create the plot size.\n",
    "plt.figure(figsize=(20,10))\n",
    "#Add a first plot.\n",
    "plt.subplot(121)\n",
    "#Plot Fch with best fit values.\n",
    "plt.plot(r, Fch(r,Qich,R)*Fch(r,Qich,R),label='Best Fit')\n",
    "#Plot Fch with initial fit values.\n",
    "plt.plot(r, Fch(r,Qich_init,R)*Fch(r,Qich_init,R),label='Initial Fit')\n",
    "plt.yscale('log')\n",
    "plt.title('3He Charge Form Factor',fontsize = 'xx-large')\n",
    "plt.ylabel('|Fch|^2',fontsize = 'xx-large')\n",
    "plt.xlabel('Q^2 (fm^-2)',fontsize = 'xx-large')\n",
    "#plt.axis([0, 60, 0, 1])\n",
    "plt.legend(fontsize = 'xx-large')\n",
    "\n",
    "#Add a second plot.\n",
    "plt.subplot(122)\n",
    "#Plot Fm with best fit values.\n",
    "plt.plot(r, Fm(r,Qim,R)*Fm(r,Qim,R),label='Best Fit')\n",
    "#Plot Fm with initial fit values.\n",
    "plt.plot(r, Fm(r,Qim_init,R)*Fm(r,Qim_init,R),label='Initial Fit')\n",
    "plt.yscale('log')\n",
    "plt.title('3He Magnetic Form Factor',fontsize = 'xx-large')\n",
    "plt.ylabel('|Fm|^2',fontsize = 'xx-large')\n",
    "plt.xlabel('Q^2 (fm^-2)',fontsize = 'xx-large')\n",
    "plt.legend(fontsize = 'xx-large')\n",
    "\n",
    "#Display the plots.\n",
    "plt.show()"
   ]
  },
  {
   "cell_type": "code",
   "execution_count": 10,
   "metadata": {},
   "outputs": [
    {
     "name": "stdout",
     "output_type": "stream",
     "text": [
      "Fit can only be plotted if the model function has one independent variable.\n"
     ]
    },
    {
     "data": {
      "text/plain": [
       "False"
      ]
     },
     "execution_count": 10,
     "metadata": {},
     "output_type": "execute_result"
    }
   ],
   "source": [
    "result.plot_residuals()"
   ]
  },
  {
   "cell_type": "code",
   "execution_count": 11,
   "metadata": {},
   "outputs": [
    {
     "ename": "MinimizerException",
     "evalue": "Cannot determine Confidence Intervals without sensible uncertainty estimates",
     "output_type": "error",
     "traceback": [
      "\u001b[0;31m---------------------------------------------------------------------------\u001b[0m",
      "\u001b[0;31mTypeError\u001b[0m                                 Traceback (most recent call last)",
      "\u001b[0;32m~/anaconda3/lib/python3.7/site-packages/lmfit-0.9.13-py3.7.egg/lmfit/confidence.py\u001b[0m in \u001b[0;36m__init__\u001b[0;34m(self, minimizer, result, p_names, prob_func, sigmas, trace, verbose, maxiter)\u001b[0m\n\u001b[1;32m    189\u001b[0m             \u001b[0;32mtry\u001b[0m\u001b[0;34m:\u001b[0m\u001b[0;34m\u001b[0m\u001b[0;34m\u001b[0m\u001b[0m\n\u001b[0;32m--> 190\u001b[0;31m                 \u001b[0;32mif\u001b[0m \u001b[0;32mnot\u001b[0m \u001b[0;34m(\u001b[0m\u001b[0mpar\u001b[0m\u001b[0;34m.\u001b[0m\u001b[0mvary\u001b[0m \u001b[0;32mand\u001b[0m \u001b[0mpar\u001b[0m\u001b[0;34m.\u001b[0m\u001b[0mstderr\u001b[0m \u001b[0;34m>\u001b[0m \u001b[0;36m0.0\u001b[0m\u001b[0;34m)\u001b[0m\u001b[0;34m:\u001b[0m\u001b[0;34m\u001b[0m\u001b[0;34m\u001b[0m\u001b[0m\n\u001b[0m\u001b[1;32m    191\u001b[0m                     \u001b[0;32mraise\u001b[0m \u001b[0mMinimizerException\u001b[0m\u001b[0;34m(\u001b[0m\u001b[0mCONF_ERR_STDERR\u001b[0m\u001b[0;34m)\u001b[0m\u001b[0;34m\u001b[0m\u001b[0;34m\u001b[0m\u001b[0m\n",
      "\u001b[0;31mTypeError\u001b[0m: '>' not supported between instances of 'NoneType' and 'float'",
      "\nDuring handling of the above exception, another exception occurred:\n",
      "\u001b[0;31mMinimizerException\u001b[0m                        Traceback (most recent call last)",
      "\u001b[0;32m<ipython-input-11-29a1a91fbe22>\u001b[0m in \u001b[0;36m<module>\u001b[0;34m\u001b[0m\n\u001b[0;32m----> 1\u001b[0;31m \u001b[0mprint\u001b[0m\u001b[0;34m(\u001b[0m\u001b[0mresult\u001b[0m\u001b[0;34m.\u001b[0m\u001b[0mci_report\u001b[0m\u001b[0;34m(\u001b[0m\u001b[0;34m)\u001b[0m\u001b[0;34m)\u001b[0m\u001b[0;34m\u001b[0m\u001b[0;34m\u001b[0m\u001b[0m\n\u001b[0m",
      "\u001b[0;32m~/anaconda3/lib/python3.7/site-packages/lmfit-0.9.13-py3.7.egg/lmfit/model.py\u001b[0m in \u001b[0;36mci_report\u001b[0;34m(self, with_offset, ndigits, **kwargs)\u001b[0m\n\u001b[1;32m   1524\u001b[0m \u001b[0;34m\u001b[0m\u001b[0m\n\u001b[1;32m   1525\u001b[0m         \"\"\"\n\u001b[0;32m-> 1526\u001b[0;31m         return ci_report(self.conf_interval(**kwargs),\n\u001b[0m\u001b[1;32m   1527\u001b[0m                          with_offset=with_offset, ndigits=ndigits)\n\u001b[1;32m   1528\u001b[0m \u001b[0;34m\u001b[0m\u001b[0m\n",
      "\u001b[0;32m~/anaconda3/lib/python3.7/site-packages/lmfit-0.9.13-py3.7.egg/lmfit/model.py\u001b[0m in \u001b[0;36mconf_interval\u001b[0;34m(self, **kwargs)\u001b[0m\n\u001b[1;32m   1503\u001b[0m         \"\"\"\n\u001b[1;32m   1504\u001b[0m         \u001b[0;32mif\u001b[0m \u001b[0mself\u001b[0m\u001b[0;34m.\u001b[0m\u001b[0mci_out\u001b[0m \u001b[0;32mis\u001b[0m \u001b[0;32mNone\u001b[0m\u001b[0;34m:\u001b[0m\u001b[0;34m\u001b[0m\u001b[0;34m\u001b[0m\u001b[0m\n\u001b[0;32m-> 1505\u001b[0;31m             \u001b[0mself\u001b[0m\u001b[0;34m.\u001b[0m\u001b[0mci_out\u001b[0m \u001b[0;34m=\u001b[0m \u001b[0mconf_interval\u001b[0m\u001b[0;34m(\u001b[0m\u001b[0mself\u001b[0m\u001b[0;34m,\u001b[0m \u001b[0mself\u001b[0m\u001b[0;34m,\u001b[0m \u001b[0;34m**\u001b[0m\u001b[0mkwargs\u001b[0m\u001b[0;34m)\u001b[0m\u001b[0;34m\u001b[0m\u001b[0;34m\u001b[0m\u001b[0m\n\u001b[0m\u001b[1;32m   1506\u001b[0m         \u001b[0;32mreturn\u001b[0m \u001b[0mself\u001b[0m\u001b[0;34m.\u001b[0m\u001b[0mci_out\u001b[0m\u001b[0;34m\u001b[0m\u001b[0;34m\u001b[0m\u001b[0m\n\u001b[1;32m   1507\u001b[0m \u001b[0;34m\u001b[0m\u001b[0m\n",
      "\u001b[0;32m~/anaconda3/lib/python3.7/site-packages/lmfit-0.9.13-py3.7.egg/lmfit/confidence.py\u001b[0m in \u001b[0;36mconf_interval\u001b[0;34m(minimizer, result, p_names, sigmas, trace, maxiter, verbose, prob_func)\u001b[0m\n\u001b[1;32m    142\u001b[0m     \"\"\"\n\u001b[1;32m    143\u001b[0m     ci = ConfidenceInterval(minimizer, result, p_names, prob_func, sigmas,\n\u001b[0;32m--> 144\u001b[0;31m                             trace, verbose, maxiter)\n\u001b[0m\u001b[1;32m    145\u001b[0m     \u001b[0moutput\u001b[0m \u001b[0;34m=\u001b[0m \u001b[0mci\u001b[0m\u001b[0;34m.\u001b[0m\u001b[0mcalc_all_ci\u001b[0m\u001b[0;34m(\u001b[0m\u001b[0;34m)\u001b[0m\u001b[0;34m\u001b[0m\u001b[0;34m\u001b[0m\u001b[0m\n\u001b[1;32m    146\u001b[0m     \u001b[0;32mif\u001b[0m \u001b[0mtrace\u001b[0m\u001b[0;34m:\u001b[0m\u001b[0;34m\u001b[0m\u001b[0;34m\u001b[0m\u001b[0m\n",
      "\u001b[0;32m~/anaconda3/lib/python3.7/site-packages/lmfit-0.9.13-py3.7.egg/lmfit/confidence.py\u001b[0m in \u001b[0;36m__init__\u001b[0;34m(self, minimizer, result, p_names, prob_func, sigmas, trace, verbose, maxiter)\u001b[0m\n\u001b[1;32m    191\u001b[0m                     \u001b[0;32mraise\u001b[0m \u001b[0mMinimizerException\u001b[0m\u001b[0;34m(\u001b[0m\u001b[0mCONF_ERR_STDERR\u001b[0m\u001b[0;34m)\u001b[0m\u001b[0;34m\u001b[0m\u001b[0;34m\u001b[0m\u001b[0m\n\u001b[1;32m    192\u001b[0m             \u001b[0;32mexcept\u001b[0m \u001b[0mTypeError\u001b[0m\u001b[0;34m:\u001b[0m\u001b[0;34m\u001b[0m\u001b[0;34m\u001b[0m\u001b[0m\n\u001b[0;32m--> 193\u001b[0;31m                 \u001b[0;32mraise\u001b[0m \u001b[0mMinimizerException\u001b[0m\u001b[0;34m(\u001b[0m\u001b[0mCONF_ERR_STDERR\u001b[0m\u001b[0;34m)\u001b[0m\u001b[0;34m\u001b[0m\u001b[0;34m\u001b[0m\u001b[0m\n\u001b[0m\u001b[1;32m    194\u001b[0m         \u001b[0;32mif\u001b[0m \u001b[0mnvars\u001b[0m \u001b[0;34m<\u001b[0m \u001b[0;36m2\u001b[0m\u001b[0;34m:\u001b[0m\u001b[0;34m\u001b[0m\u001b[0;34m\u001b[0m\u001b[0m\n\u001b[1;32m    195\u001b[0m             \u001b[0;32mraise\u001b[0m \u001b[0mMinimizerException\u001b[0m\u001b[0;34m(\u001b[0m\u001b[0mCONF_ERR_NVARS\u001b[0m\u001b[0;34m)\u001b[0m\u001b[0;34m\u001b[0m\u001b[0;34m\u001b[0m\u001b[0m\n",
      "\u001b[0;31mMinimizerException\u001b[0m: Cannot determine Confidence Intervals without sensible uncertainty estimates"
     ]
    }
   ],
   "source": [
    "print(result.ci_report())"
   ]
  },
  {
   "cell_type": "code",
   "execution_count": null,
   "metadata": {},
   "outputs": [],
   "source": []
  }
 ],
 "metadata": {
  "kernelspec": {
   "display_name": "Python 3",
   "language": "python",
   "name": "python3"
  },
  "language_info": {
   "codemirror_mode": {
    "name": "ipython",
    "version": 3
   },
   "file_extension": ".py",
   "mimetype": "text/x-python",
   "name": "python",
   "nbconvert_exporter": "python",
   "pygments_lexer": "ipython3",
   "version": "3.7.3"
  }
 },
 "nbformat": 4,
 "nbformat_minor": 2
}
