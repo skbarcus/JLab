{
 "cells": [
  {
   "cell_type": "code",
   "execution_count": 124,
   "metadata": {},
   "outputs": [
    {
     "name": "stdout",
     "output_type": "stream",
     "text": [
      "[ 1.  2.  3.  4.  5.  6.  7.  8.  9. 10.]\n",
      "[  1.   4.   9.  16.  25.  38.  45.  62.  86. 100.]\n"
     ]
    }
   ],
   "source": [
    "import numpy as np\n",
    "#matplotlib \n",
    "from numpy import cos, sin\n",
    "import matplotlib.pyplot as plt\n",
    "#Import math module\n",
    "#import math\n",
    "#Import LMfit to minimize chi^2.\n",
    "import lmfit\n",
    "from lmfit import Minimizer, Parameters, report_fit\n",
    "#from lmfit import minimize, Parameters\n",
    "\n",
    "X,Y = np.loadtxt('Test.txt', skiprows=0, unpack=True)\n",
    "\n",
    "print(X)\n",
    "print(Y)\n",
    "\n",
    "def Parabola(X,a,b,c):\n",
    "    #pars = [a,b,c]\n",
    "    #Y = (pars[0] + pars[1] * X + pars[2] * X ** 2) #Also works!\n",
    "    return (a + b * X + c * X ** 2) #works!\n",
    "\n",
    "#d=5\n",
    "\n",
    "# #def chi(params, Q0ch,Q1ch,Q2ch,Q3ch,Q4ch,Q5ch,Q6ch,Q7ch,Q8ch,Q9ch,Q10ch,Q11ch,Q0m,Q1m,Q2m,Q3m,Q4m,Q5m,Q6m,Q7m,Q8m,Q9m,Q10m,Q11m):\n",
    "# def chi(params, X, Y):\n",
    "    \n",
    "#     a = params['a']\n",
    "#     b = params['b']\n",
    "#     c = params['c']\n",
    "    \n",
    "#     #delta = (sigexp-XS(E0[0],theta[0]))/uncertainty\n",
    "#     #delta = (Y - (a + b * X + c * X ** 2))/0.001  #Works!\n",
    "#     delta = (Y - Parabola(X,a,b,c))  #Also works!\n",
    "#     chi = delta \n",
    "#     return chi\n",
    "\n",
    "# params = Parameters()\n",
    "# params.add('a', value=0)#, min=0)\n",
    "# params.add('b', value=0)#, min=0)\n",
    "# params.add('c', value=0)#, min=0)\n",
    "\n",
    "# minner = Minimizer(chi, params, fcn_args=(X, Y))\n",
    "# result = minner.minimize()\n",
    "# final = Y + result.residual\n",
    "# report_fit(result)\n",
    "\n",
    "# #lmfit.printfuncs.report_fit(minner.params, min_correl=0.5)\n",
    "\n",
    "# plt.plot(X,Y,'k+')\n",
    "# plt.plot(X,final,'r')\n",
    "# plt.show()"
   ]
  },
  {
   "cell_type": "code",
   "execution_count": 125,
   "metadata": {},
   "outputs": [],
   "source": [
    "from lmfit import Model"
   ]
  },
  {
   "cell_type": "code",
   "execution_count": 144,
   "metadata": {},
   "outputs": [
    {
     "ename": "KeyError",
     "evalue": "\"'c+a+b' is not a valid Parameters name\"",
     "output_type": "error",
     "traceback": [
      "\u001b[0;31m---------------------------------------------------------------------------\u001b[0m",
      "\u001b[0;31mKeyError\u001b[0m                                  Traceback (most recent call last)",
      "\u001b[0;32m<ipython-input-144-721fa8535f47>\u001b[0m in \u001b[0;36m<module>\u001b[0;34m\u001b[0m\n\u001b[1;32m     14\u001b[0m \u001b[0;31m#pars.add('c', expr='1 - a - b')  #Constrains the fit such that a+b+c=1.\u001b[0m\u001b[0;34m\u001b[0m\u001b[0;34m\u001b[0m\u001b[0;34m\u001b[0m\u001b[0m\n\u001b[1;32m     15\u001b[0m \u001b[0;31m#pars.add('c'+'a'+'b', expr='1')   #Creates variable cab = 1. Oops.\u001b[0m\u001b[0;34m\u001b[0m\u001b[0;34m\u001b[0m\u001b[0;34m\u001b[0m\u001b[0m\n\u001b[0;32m---> 16\u001b[0;31m \u001b[0mpars\u001b[0m\u001b[0;34m.\u001b[0m\u001b[0madd\u001b[0m\u001b[0;34m(\u001b[0m\u001b[0;34m'c+a+b'\u001b[0m\u001b[0;34m,\u001b[0m \u001b[0mexpr\u001b[0m\u001b[0;34m=\u001b[0m\u001b[0;34m'1'\u001b[0m\u001b[0;34m)\u001b[0m\u001b[0;34m\u001b[0m\u001b[0;34m\u001b[0m\u001b[0m\n\u001b[0m\u001b[1;32m     17\u001b[0m \u001b[0;31m#pars.add('d', value=0, vary=False, expr='1 - a - b')  #Doesn't fix d=0.\u001b[0m\u001b[0;34m\u001b[0m\u001b[0;34m\u001b[0m\u001b[0;34m\u001b[0m\u001b[0m\n\u001b[1;32m     18\u001b[0m \u001b[0;34m\u001b[0m\u001b[0m\n",
      "\u001b[0;32m~/anaconda3/lib/python3.7/site-packages/lmfit-0.9.13-py3.7.egg/lmfit/parameter.py\u001b[0m in \u001b[0;36madd\u001b[0;34m(self, name, value, vary, min, max, expr, brute_step)\u001b[0m\n\u001b[1;32m    330\u001b[0m             self.__setitem__(name, Parameter(value=value, name=name, vary=vary,\n\u001b[1;32m    331\u001b[0m                                              \u001b[0mmin\u001b[0m\u001b[0;34m=\u001b[0m\u001b[0mmin\u001b[0m\u001b[0;34m,\u001b[0m \u001b[0mmax\u001b[0m\u001b[0;34m=\u001b[0m\u001b[0mmax\u001b[0m\u001b[0;34m,\u001b[0m \u001b[0mexpr\u001b[0m\u001b[0;34m=\u001b[0m\u001b[0mexpr\u001b[0m\u001b[0;34m,\u001b[0m\u001b[0;34m\u001b[0m\u001b[0;34m\u001b[0m\u001b[0m\n\u001b[0;32m--> 332\u001b[0;31m                                              brute_step=brute_step))\n\u001b[0m\u001b[1;32m    333\u001b[0m \u001b[0;34m\u001b[0m\u001b[0m\n\u001b[1;32m    334\u001b[0m     \u001b[0;32mdef\u001b[0m \u001b[0madd_many\u001b[0m\u001b[0;34m(\u001b[0m\u001b[0mself\u001b[0m\u001b[0;34m,\u001b[0m \u001b[0;34m*\u001b[0m\u001b[0mparlist\u001b[0m\u001b[0;34m)\u001b[0m\u001b[0;34m:\u001b[0m\u001b[0;34m\u001b[0m\u001b[0;34m\u001b[0m\u001b[0m\n",
      "\u001b[0;32m~/anaconda3/lib/python3.7/site-packages/lmfit-0.9.13-py3.7.egg/lmfit/parameter.py\u001b[0m in \u001b[0;36m__setitem__\u001b[0;34m(self, key, par)\u001b[0m\n\u001b[1;32m    123\u001b[0m         \u001b[0;32mif\u001b[0m \u001b[0mkey\u001b[0m \u001b[0;32mnot\u001b[0m \u001b[0;32min\u001b[0m \u001b[0mself\u001b[0m\u001b[0;34m:\u001b[0m\u001b[0;34m\u001b[0m\u001b[0;34m\u001b[0m\u001b[0m\n\u001b[1;32m    124\u001b[0m             \u001b[0;32mif\u001b[0m \u001b[0;32mnot\u001b[0m \u001b[0mvalid_symbol_name\u001b[0m\u001b[0;34m(\u001b[0m\u001b[0mkey\u001b[0m\u001b[0;34m)\u001b[0m\u001b[0;34m:\u001b[0m\u001b[0;34m\u001b[0m\u001b[0;34m\u001b[0m\u001b[0m\n\u001b[0;32m--> 125\u001b[0;31m                 \u001b[0;32mraise\u001b[0m \u001b[0mKeyError\u001b[0m\u001b[0;34m(\u001b[0m\u001b[0;34m\"'%s' is not a valid Parameters name\"\u001b[0m \u001b[0;34m%\u001b[0m \u001b[0mkey\u001b[0m\u001b[0;34m)\u001b[0m\u001b[0;34m\u001b[0m\u001b[0;34m\u001b[0m\u001b[0m\n\u001b[0m\u001b[1;32m    126\u001b[0m         \u001b[0;32mif\u001b[0m \u001b[0mpar\u001b[0m \u001b[0;32mis\u001b[0m \u001b[0;32mnot\u001b[0m \u001b[0;32mNone\u001b[0m \u001b[0;32mand\u001b[0m \u001b[0;32mnot\u001b[0m \u001b[0misinstance\u001b[0m\u001b[0;34m(\u001b[0m\u001b[0mpar\u001b[0m\u001b[0;34m,\u001b[0m \u001b[0mParameter\u001b[0m\u001b[0;34m)\u001b[0m\u001b[0;34m:\u001b[0m\u001b[0;34m\u001b[0m\u001b[0;34m\u001b[0m\u001b[0m\n\u001b[1;32m    127\u001b[0m             \u001b[0;32mraise\u001b[0m \u001b[0mValueError\u001b[0m\u001b[0;34m(\u001b[0m\u001b[0;34m\"'%s' is not a Parameter\"\u001b[0m \u001b[0;34m%\u001b[0m \u001b[0mpar\u001b[0m\u001b[0;34m)\u001b[0m\u001b[0;34m\u001b[0m\u001b[0;34m\u001b[0m\u001b[0m\n",
      "\u001b[0;31mKeyError\u001b[0m: \"'c+a+b' is not a valid Parameters name\""
     ]
    }
   ],
   "source": [
    "model=Model(Parabola)\n",
    "\n",
    "pars = Parameters()\n",
    "#pars = model.make_params()\n",
    "#d=0\n",
    "pars.add('a', value=0)\n",
    "pars.add('b', value=0)\n",
    "pars.add('c', value=0)\n",
    "\n",
    "# pars.add('x', value=5, vary=True)\n",
    "# pars.add('delta', value=5, max=10, vary=True)\n",
    "# pars.add('y', expr='delta-x')\n",
    "\n",
    "#pars.add('c', expr='1 - a - b')   #Constrains the fit such that a+b+c=1.\n",
    "#pars.add('c'+'a'+'b', expr='1')   #Creates variable cab = 1. Oops.\n",
    "#pars.add('c+a+b', expr='1')        #Not valid parameter name.\n",
    "#pars.add('d', value=0, vary=False, expr='1 - a - b')  #Doesn't fix d=0.\n",
    "\n",
    "#pars.add('d', value=0, vary=False)\n",
    "#z = Parameter(expr='1+c')\n",
    "#pars.add('d',vary=False, expr='1-a')\n",
    "#pars.add(expr='1 - a - c')\n",
    "#pars.add('d', expr='1 - a - c')\n",
    "#pars.add('d', value=0, vary=False, expr='1 - a - b')\n",
    "#pars.add('d', 0=='1-a-b')\n",
    "#pars = model.make_params()\n",
    "print(model.param_names, model.independent_vars)"
   ]
  },
  {
   "cell_type": "code",
   "execution_count": 141,
   "metadata": {},
   "outputs": [],
   "source": [
    "#result=model.fit(Y,X=X,a=0,b=0,c=0,weights=1/3)\n",
    "\n",
    "result=model.fit(Y,pars,X=X,weights=1/3)"
   ]
  },
  {
   "cell_type": "code",
   "execution_count": 142,
   "metadata": {
    "scrolled": true
   },
   "outputs": [
    {
     "name": "stdout",
     "output_type": "stream",
     "text": [
      "[[Model]]\n",
      "    Model(Parabola)\n",
      "[[Fit Statistics]]\n",
      "    # fitting method   = leastsq\n",
      "    # function evals   = 9\n",
      "    # data points      = 10\n",
      "    # variables        = 3\n",
      "    chi-square         = 5.14208754\n",
      "    reduced chi-square = 0.73458393\n",
      "    Akaike info crit   = -0.65125959\n",
      "    Bayesian info crit = 0.25649569\n",
      "[[Variables]]\n",
      "    a:    0.93333339 +/- 3.02416418 (324.02%) (init = 0)\n",
      "    b:   -0.57575762 +/- 1.26301841 (219.37%) (init = 0)\n",
      "    c:    1.06060607 +/- 0.11189868 (10.55%) (init = 0)\n",
      "    cab:  1.00000000 +/- 0.00000000 (0.00%) == '1'\n",
      "[[Correlations]] (unreported correlations are < 0.100)\n",
      "    C(b, c) = -0.975\n",
      "    C(a, b) = -0.909\n",
      "    C(a, c) =  0.814\n",
      "\n"
     ]
    }
   ],
   "source": [
    "print(result.fit_report())"
   ]
  },
  {
   "cell_type": "code",
   "execution_count": 143,
   "metadata": {},
   "outputs": [
    {
     "data": {
      "text/plain": [
       "(<Figure size 432x432 with 2 Axes>, GridSpec(2, 1, height_ratios=[1, 4]))"
      ]
     },
     "execution_count": 143,
     "metadata": {},
     "output_type": "execute_result"
    },
    {
     "data": {
      "image/png": "[encoded data removed]",
      "text/plain": [
       "<Figure size 432x432 with 2 Axes>"
      ]
     },
     "metadata": {
      "needs_background": "light"
     },
     "output_type": "display_data"
    }
   ],
   "source": [
    "result.plot()"
   ]
  },
  {
   "cell_type": "code",
   "execution_count": 7,
   "metadata": {},
   "outputs": [
    {
     "name": "stdout",
     "output_type": "stream",
     "text": [
      "      99.73%    95.45%    68.27%    _BEST_    68.27%    95.45%    99.73%\n",
      " a: -13.69943  -7.34515  -3.25616   0.93333  +3.25616  +7.34515 +13.69943\n",
      " b:  -5.72145  -3.06764  -1.35991  -0.57576  +1.35991  +3.06764  +5.72145\n",
      " c:  -0.50690  -0.27178  -0.12047   1.06061  +0.12047  +0.27178  +0.50690\n"
     ]
    }
   ],
   "source": [
    "print(result.ci_report())"
   ]
  },
  {
   "cell_type": "code",
   "execution_count": 8,
   "metadata": {},
   "outputs": [
    {
     "name": "stdout",
     "output_type": "stream",
     "text": [
      "{'a': 0.9333333906703979, 'b': -0.5757576193374501, 'c': 1.0606060715086818}\n"
     ]
    }
   ],
   "source": [
    "print(result.best_values)"
   ]
  },
  {
   "cell_type": "code",
   "execution_count": 9,
   "metadata": {},
   "outputs": [
    {
     "name": "stdout",
     "output_type": "stream",
     "text": [
      "0.9333333906703979\n"
     ]
    }
   ],
   "source": [
    "print(result.best_values['a'])"
   ]
  },
  {
   "cell_type": "code",
   "execution_count": null,
   "metadata": {},
   "outputs": [],
   "source": []
  }
 ],
 "metadata": {
  "kernelspec": {
   "display_name": "Python 3",
   "language": "python",
   "name": "python3"
  },
  "language_info": {
   "codemirror_mode": {
    "name": "ipython",
    "version": 3
   },
   "file_extension": ".py",
   "mimetype": "text/x-python",
   "name": "python",
   "nbconvert_exporter": "python",
   "pygments_lexer": "ipython3",
   "version": "3.7.3"
  }
 },
 "nbformat": 4,
 "nbformat_minor": 2
}
