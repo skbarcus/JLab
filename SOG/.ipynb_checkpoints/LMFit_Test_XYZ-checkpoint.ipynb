{
 "cells": [
  {
   "cell_type": "code",
   "execution_count": 2,
   "metadata": {},
   "outputs": [
    {
     "name": "stdout",
     "output_type": "stream",
     "text": [
      "[ 1.  2.  3.  4.  5.  6.  7.  8.  9. 10.]\n",
      "[  1.   4.   9.  16.  25.  38.  45.  62.  86. 100.]\n",
      "[ 0.1  0.4  0.9  1.6  2.5  3.8  4.5  6.2  8.6 10. ]\n",
      "[[Fit Statistics]]\n",
      "    # fitting method   = leastsq\n",
      "    # function evals   = 12\n",
      "    # data points      = 10\n",
      "    # variables        = 3\n",
      "    chi-square         = 46.2787879\n",
      "    reduced chi-square = 6.61125541\n",
      "    Akaike info crit   = 21.3209862\n",
      "    Bayesian info crit = 22.2287415\n",
      "[[Variables]]\n",
      "    a:  0.93333084 +/- 3.02416391 (324.02%) (init = 0)\n",
      "    b: -0.57575668 +/- 1.26301832 (219.37%) (init = 0)\n",
      "    c:  1.06060599 +/- 0.11189868 (10.55%) (init = 0)\n",
      "[[Correlations]] (unreported correlations are < 0.100)\n",
      "    C(b, c) = -0.975\n",
      "    C(a, b) = -0.909\n",
      "    C(a, c) =  0.814\n"
     ]
    },
    {
     "data": {
      "image/png": "[encoded data removed]",
      "text/plain": [
       "<Figure size 432x288 with 1 Axes>"
      ]
     },
     "metadata": {
      "needs_background": "light"
     },
     "output_type": "display_data"
    }
   ],
   "source": [
    "import numpy as np\n",
    "#matplotlib \n",
    "from numpy import cos, sin\n",
    "import matplotlib.pyplot as plt\n",
    "#Import math module\n",
    "#import math\n",
    "#Import LMfit to minimize chi^2.\n",
    "import lmfit\n",
    "from lmfit import Minimizer, Parameters, report_fit\n",
    "#from lmfit import minimize, Parameters\n",
    "\n",
    "X,Y,Z = np.loadtxt('Test_XYZ.txt', skiprows=0, unpack=True)\n",
    "\n",
    "print(X)\n",
    "print(Y)\n",
    "print(Z)\n",
    "\n",
    "def Parabola(X,a,b,c):\n",
    "    #pars = [a,b,c]\n",
    "    #Y = (pars[0] + pars[1] * X + pars[2] * X ** 2) #Also works!\n",
    "    return (a + b * X + c * X ** 2) #works!\n",
    "\n",
    "#d=5\n",
    "\n",
    "#def chi(params, Q0ch,Q1ch,Q2ch,Q3ch,Q4ch,Q5ch,Q6ch,Q7ch,Q8ch,Q9ch,Q10ch,Q11ch,Q0m,Q1m,Q2m,Q3m,Q4m,Q5m,Q6m,Q7m,Q8m,Q9m,Q10m,Q11m):\n",
    "def chi(params, X, Y):\n",
    "    \n",
    "    a = params['a']\n",
    "    b = params['b']\n",
    "    c = params['c']\n",
    "    \n",
    "    #delta = (sigexp-XS(E0[0],theta[0]))/uncertainty\n",
    "    #delta = (Y - (a + b * X + c * X ** 2))/0.001  #Works!\n",
    "    delta = (Y - Parabola(X,a,b,c))  #Also works!\n",
    "    chi = delta \n",
    "    return chi\n",
    "\n",
    "params = Parameters()\n",
    "params.add('a', value=0)#, min=0)\n",
    "params.add('b', value=0)#, min=0)\n",
    "params.add('c', value=0)#, min=0)\n",
    "\n",
    "minner = Minimizer(chi, params, fcn_args=(X, Y))\n",
    "result = minner.minimize()\n",
    "final = Y + result.residual\n",
    "report_fit(result)\n",
    "\n",
    "#lmfit.printfuncs.report_fit(minner.params, min_correl=0.5)\n",
    "\n",
    "plt.plot(X,Y,'k+')\n",
    "plt.plot(X,final,'r')\n",
    "plt.show()"
   ]
  },
  {
   "cell_type": "code",
   "execution_count": 4,
   "metadata": {},
   "outputs": [],
   "source": [
    "from lmfit import Model\n"
   ]
  },
  {
   "cell_type": "code",
   "execution_count": 5,
   "metadata": {},
   "outputs": [],
   "source": [
    "model=Model(Parabola)"
   ]
  },
  {
   "cell_type": "code",
   "execution_count": 6,
   "metadata": {},
   "outputs": [],
   "source": [
    "result=model.fit(Y,X=X,a=0,b=0,c=0,weights=Z)"
   ]
  },
  {
   "cell_type": "code",
   "execution_count": 7,
   "metadata": {
    "scrolled": true
   },
   "outputs": [
    {
     "name": "stdout",
     "output_type": "stream",
     "text": [
      "[[Model]]\n",
      "    Model(Parabola)\n",
      "[[Fit Statistics]]\n",
      "    # fitting method   = leastsq\n",
      "    # function evals   = 24\n",
      "    # data points      = 10\n",
      "    # variables        = 3\n",
      "    chi-square         = 2063.53246\n",
      "    reduced chi-square = 294.790351\n",
      "    Akaike info crit   = 59.2958949\n",
      "    Bayesian info crit = 60.2036501\n",
      "[[Variables]]\n",
      "    a: -6.55411353 +/- 23.3478548 (356.23%) (init = 0)\n",
      "    b:  1.47901923 +/- 6.10516259 (412.78%) (init = 0)\n",
      "    c:  0.93072443 +/- 0.38946665 (41.85%) (init = 0)\n",
      "[[Correlations]] (unreported correlations are < 0.100)\n",
      "    C(b, c) = -0.993\n",
      "    C(a, b) = -0.986\n",
      "    C(a, c) =  0.959\n",
      "\n"
     ]
    }
   ],
   "source": [
    "print(result.fit_report())"
   ]
  },
  {
   "cell_type": "code",
   "execution_count": 8,
   "metadata": {},
   "outputs": [
    {
     "data": {
      "text/plain": [
       "(<Figure size 432x432 with 2 Axes>, GridSpec(2, 1, height_ratios=[1, 4]))"
      ]
     },
     "execution_count": 8,
     "metadata": {},
     "output_type": "execute_result"
    },
    {
     "data": {
      "image/png": "[encoded data removed]",
      "text/plain": [
       "<Figure size 432x432 with 2 Axes>"
      ]
     },
     "metadata": {
      "needs_background": "light"
     },
     "output_type": "display_data"
    }
   ],
   "source": [
    "result.plot()"
   ]
  },
  {
   "cell_type": "code",
   "execution_count": 41,
   "metadata": {},
   "outputs": [
    {
     "name": "stdout",
     "output_type": "stream",
     "text": [
      "      99.73%    95.45%    68.27%    _BEST_    68.27%    95.45%    99.73%\n",
      " a: -13.69943  -7.34515  -3.25616   0.93333  +3.25616  +7.34515 +13.69943\n",
      " b:  -5.72145  -3.06764  -1.35991  -0.57576  +1.35991  +3.06764  +5.72145\n",
      " c:  -0.50690  -0.27178  -0.12047   1.06061  +0.12047  +0.27178  +0.50690\n"
     ]
    }
   ],
   "source": [
    "print(result.ci_report())"
   ]
  },
  {
   "cell_type": "code",
   "execution_count": 9,
   "metadata": {},
   "outputs": [
    {
     "name": "stdout",
     "output_type": "stream",
     "text": [
      "{'a': -6.554113534980411, 'b': 1.4790192287371056, 'c': 0.9307244324321509}\n"
     ]
    }
   ],
   "source": [
    "print(result.best_values)"
   ]
  },
  {
   "cell_type": "code",
   "execution_count": 45,
   "metadata": {},
   "outputs": [
    {
     "name": "stdout",
     "output_type": "stream",
     "text": [
      "0.9333333906703979\n"
     ]
    }
   ],
   "source": [
    "print(result.best_values['a'])"
   ]
  },
  {
   "cell_type": "code",
   "execution_count": null,
   "metadata": {},
   "outputs": [],
   "source": []
  }
 ],
 "metadata": {
  "kernelspec": {
   "display_name": "Python 3",
   "language": "python",
   "name": "python3"
  },
  "language_info": {
   "codemirror_mode": {
    "name": "ipython",
    "version": 3
   },
   "file_extension": ".py",
   "mimetype": "text/x-python",
   "name": "python",
   "nbconvert_exporter": "python",
   "pygments_lexer": "ipython3",
   "version": "3.7.3"
  }
 },
 "nbformat": 4,
 "nbformat_minor": 2
}
