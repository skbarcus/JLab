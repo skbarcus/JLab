{
 "cells": [
  {
   "cell_type": "code",
   "execution_count": 127,
   "metadata": {},
   "outputs": [],
   "source": [
    "import numpy as np\n",
    "\n",
    "%matplotlib inline\n",
    "import matplotlib.pyplot as plt\n",
    "\n",
    "#Create a function to produce our data set. By default noise=0, no outliers, seed = 0.\n",
    "def generate_data(t, A, sigma, omega, noise=0, n_outliers=0, random_state=0):\n",
    "    #Define the function that generates the data.\n",
    "    y = A * np.exp(-sigma * t) * np.sin(omega * t)\n",
    "    #Create a random number generator.\n",
    "    rnd = np.random.RandomState(random_state)\n",
    "    #Create an error for each point generated. rnd.randn(t.size) makes an array of length t.size filled with \n",
    "    #numbers taken randomly from a normal distribution centered about zero.\n",
    "    error = noise * rnd.randn(t.size)\n",
    "    #print('t.size =', t.size)\n",
    "    #Randomly select a number of integers equal to the chosen number of outliers in the range of 0-t.size.\n",
    "    outliers = rnd.randint(0, t.size, n_outliers)\n",
    "    #For each randomly selected outlier in the array of errors multiply that element by 35 to make it an outlier.\n",
    "    error[outliers] *= 35\n",
    "    #Sum the function result with the error at each point to yield the data.\n",
    "    return y + error\n",
    "\n",
    "A = 2\n",
    "sigma = 0.1\n",
    "omega = 0.1 * 2 * np.pi\n",
    "#x_true = np.array([A, sigma, omega])\n",
    "\n",
    "noise = 0.1\n",
    "\n",
    "t_min = 0\n",
    "t_max = 30"
   ]
  },
  {
   "cell_type": "code",
   "execution_count": 128,
   "metadata": {},
   "outputs": [],
   "source": [
    "#Create some training data.\n",
    "#Create array of evenly spaced points.\n",
    "t_train = np.linspace(t_min, t_max, 30)\n",
    "#Calculate the data points at each of the evenly spaced points above.\n",
    "y_train = generate_data(t_train, A, sigma, omega, noise=noise, n_outliers=4)"
   ]
  },
  {
   "cell_type": "code",
   "execution_count": 129,
   "metadata": {},
   "outputs": [],
   "source": [
    "#Define a function for computing the residuals for least squares regression (true funtion - data).\n",
    "def fun(x, t, y):\n",
    "    return x[0] * np.exp(-x[1] * t) * np.sin(x[2] * t) - y"
   ]
  },
  {
   "cell_type": "code",
   "execution_count": 130,
   "metadata": {},
   "outputs": [
    {
     "name": "stdout",
     "output_type": "stream",
     "text": [
      "4.340664927628695 0.1725577531946913 0.5310376112319571\n",
      "2.17468132632732 0.10381257819943751 0.6276659949053313\n"
     ]
    }
   ],
   "source": [
    "#Import the least squares package from scipy.\n",
    "from scipy.optimize import least_squares\n",
    "\n",
    "#Create an array with three elements all being equal to one. These are the starting guesses for the regession.\n",
    "x0 = np.ones(3)\n",
    "\n",
    "#Compute the ordinary least squares regression on the data we generated above.\n",
    "res_lsq = least_squares(fun, x0, args=(t_train, y_train))\n",
    "\n",
    "#Compute the robust least squares regression on the data we generated above using soft L1.\n",
    "#loss chooses the robust method to use (default is linear (ordinary)). \n",
    "#f_scale determines the boundary between inliers and outliers (default is C=1.0).\n",
    "res_robust = least_squares(fun, x0, loss='soft_l1', f_scale=0.1, args=(t_train, y_train))\n",
    "\n",
    "#Create data from generator for curve plotting using same function that made data points excepting outliers.\n",
    "t_test = np.linspace(t_min, t_max, 300)\n",
    "y_test = generate_data(t_test, A, sigma, omega)\n",
    "\n",
    "#Create data for curve from ordinary/robust least squares using those fits' parameters (e.g. *res_lsq.x for olsq)\n",
    "y_lsq = generate_data(t_test, *res_lsq.x)\n",
    "print(*res_lsq.x)\n",
    "y_robust = generate_data(t_test, *res_robust.x)\n",
    "print(*res_robust.x)"
   ]
  },
  {
   "cell_type": "code",
   "execution_count": 131,
   "metadata": {},
   "outputs": [
    {
     "data": {
      "image/png": "[encoded data removed]",
      "text/plain": [
       "<Figure size 432x288 with 1 Axes>"
      ]
     },
     "metadata": {
      "needs_background": "light"
     },
     "output_type": "display_data"
    }
   ],
   "source": [
    "#Plot the data points with outliers, the true function, the olsq fit, and the rlsq fit.\n",
    "plt.plot(t_train, y_train, 'o', label='data')\n",
    "plt.plot(t_test, y_test, label='true')\n",
    "plt.plot(t_test, y_lsq, label='lsq')\n",
    "plt.plot(t_test, y_robust, label='robust lsq')\n",
    "plt.xlabel('$t$')\n",
    "plt.ylabel('$y$')\n",
    "plt.legend();"
   ]
  },
  {
   "cell_type": "code",
   "execution_count": 110,
   "metadata": {},
   "outputs": [
    {
     "data": {
      "text/plain": [
       "[<matplotlib.lines.Line2D at 0x7f29f66bbb38>]"
      ]
     },
     "execution_count": 110,
     "metadata": {},
     "output_type": "execute_result"
    },
    {
     "data": {
      "image/png": "[encoded data removed]",
      "text/plain": [
       "<Figure size 432x288 with 1 Axes>"
      ]
     },
     "metadata": {
      "needs_background": "light"
     },
     "output_type": "display_data"
    }
   ],
   "source": [
    "t_rand = np.linspace(0, 10, 100)\n",
    "rnd = np.random.RandomState()\n",
    "\n",
    "normal_dist = rnd.randn(t_rand.size)\n",
    "plt.plot(t_rand,normal_dist, 'o')"
   ]
  },
  {
   "cell_type": "code",
   "execution_count": null,
   "metadata": {},
   "outputs": [],
   "source": []
  }
 ],
 "metadata": {
  "kernelspec": {
   "display_name": "Python 3",
   "language": "python",
   "name": "python3"
  },
  "language_info": {
   "codemirror_mode": {
    "name": "ipython",
    "version": 3
   },
   "file_extension": ".py",
   "mimetype": "text/x-python",
   "name": "python",
   "nbconvert_exporter": "python",
   "pygments_lexer": "ipython3",
   "version": "3.7.3"
  }
 },
 "nbformat": 4,
 "nbformat_minor": 2
}
