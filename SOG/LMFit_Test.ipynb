{
 "cells": [
  {
   "cell_type": "code",
   "execution_count": 160,
   "metadata": {},
   "outputs": [
    {
     "name": "stdout",
     "output_type": "stream",
     "text": [
      "<built-in function getrecursionlimit>\n",
      "[ 1.  2.  3.  4.  5.  6.  7.  8.  9. 10.]\n",
      "[  1.   4.   9.  16.  25.  38.  45.  62.  86. 100.]\n"
     ]
    }
   ],
   "source": [
    "import numpy as np\n",
    "#matplotlib \n",
    "from numpy import cos, sin\n",
    "import matplotlib.pyplot as plt\n",
    "#Import math module\n",
    "#import math\n",
    "#Import LMfit to minimize chi^2.\n",
    "import lmfit\n",
    "from lmfit import Minimizer, Parameters, report_fit\n",
    "#from lmfit import minimize, Parameters\n",
    "import sys\n",
    "print(sys.getrecursionlimit)\n",
    "sys.getrecursionlimit\n",
    "\n",
    "X,Y = np.loadtxt('Test.txt', skiprows=0, unpack=True)\n",
    "\n",
    "print(X)\n",
    "print(Y)\n",
    "\n",
    "def Parabola(X,a,b,c):\n",
    "    #pars = [a,b,c]\n",
    "    #Y = (pars[0] + pars[1] * X + pars[2] * X ** 2) #Also works!\n",
    "    return (a + b * X + c * X ** 2) #works!\n",
    "\n",
    "#d=5\n",
    "\n",
    "# #def chi(params, Q0ch,Q1ch,Q2ch,Q3ch,Q4ch,Q5ch,Q6ch,Q7ch,Q8ch,Q9ch,Q10ch,Q11ch,Q0m,Q1m,Q2m,Q3m,Q4m,Q5m,Q6m,Q7m,Q8m,Q9m,Q10m,Q11m):\n",
    "# def chi(params, X, Y):\n",
    "    \n",
    "#     a = params['a']\n",
    "#     b = params['b']\n",
    "#     c = params['c']\n",
    "    \n",
    "#     #delta = (sigexp-XS(E0[0],theta[0]))/uncertainty\n",
    "#     #delta = (Y - (a + b * X + c * X ** 2))/0.001  #Works!\n",
    "#     delta = (Y - Parabola(X,a,b,c))  #Also works!\n",
    "#     chi = delta \n",
    "#     return chi\n",
    "\n",
    "# params = Parameters()\n",
    "# params.add('a', value=0)#, min=0)\n",
    "# params.add('b', value=0)#, min=0)\n",
    "# params.add('c', value=0)#, min=0)\n",
    "\n",
    "# minner = Minimizer(chi, params, fcn_args=(X, Y))\n",
    "# result = minner.minimize()\n",
    "# final = Y + result.residual\n",
    "# report_fit(result)\n",
    "\n",
    "# #lmfit.printfuncs.report_fit(minner.params, min_correl=0.5)\n",
    "\n",
    "# plt.plot(X,Y,'k+')\n",
    "# plt.plot(X,final,'r')\n",
    "# plt.show()"
   ]
  },
  {
   "cell_type": "code",
   "execution_count": 125,
   "metadata": {},
   "outputs": [],
   "source": [
    "from lmfit import Model"
   ]
  },
  {
   "cell_type": "code",
   "execution_count": 152,
   "metadata": {},
   "outputs": [
    {
     "name": "stdout",
     "output_type": "stream",
     "text": [
      "['a', 'b', 'c'] ['X']\n"
     ]
    }
   ],
   "source": [
    "model=Model(Parabola)\n",
    "\n",
    "pars = Parameters()\n",
    "#pars = model.make_params()\n",
    "#d=0\n",
    "pars.add('a', value=0)\n",
    "pars.add('b', value=0)\n",
    "pars.add('c', value=0)\n",
    "\n",
    "# pars.add('x', value=5, vary=True)\n",
    "# pars.add('delta', value=5, max=10, vary=True)\n",
    "# pars.add('y', expr='delta-x')\n",
    "\n",
    "pars.add('c', expr='1 - a - b')   #Constrains the fit such that a+b+c=1.\n",
    "\n",
    "#pars.add('c'+'a'+'b', expr='1')   #Creates variable cab = 1. Oops.\n",
    "#pars.add('c+a+b', expr='1')        #Not valid parameter name.\n",
    "#pars.add('d', value=0, vary=False, expr='1 - a - b')  #Doesn't fix d=0.\n",
    "\n",
    "#pars.add('d', value=0, vary=False)\n",
    "#z = Parameter(expr='1+c')\n",
    "#pars.add('d',vary=False, expr='1-a')\n",
    "#pars.add(expr='1 - a - c')\n",
    "#pars.add('d', expr='1 - a - c')\n",
    "#pars.add('d', value=0, vary=False, expr='1 - a - b')\n",
    "#pars.add('d', 0=='1-a-b')\n",
    "#pars = model.make_params()\n",
    "print(model.param_names, model.independent_vars)"
   ]
  },
  {
   "cell_type": "code",
   "execution_count": 153,
   "metadata": {},
   "outputs": [],
   "source": [
    "#result=model.fit(Y,X=X,a=0,b=0,c=0,weights=1/3)\n",
    "\n",
    "result=model.fit(Y,pars,X=X,weights=1/3)"
   ]
  },
  {
   "cell_type": "code",
   "execution_count": 154,
   "metadata": {
    "scrolled": true
   },
   "outputs": [
    {
     "name": "stdout",
     "output_type": "stream",
     "text": [
      "[[Model]]\n",
      "    Model(Parabola)\n",
      "[[Fit Statistics]]\n",
      "    # fitting method   = leastsq\n",
      "    # function evals   = 6\n",
      "    # data points      = 10\n",
      "    # variables        = 2\n",
      "    chi-square         = 5.17351951\n",
      "    reduced chi-square = 0.64668994\n",
      "    Akaike info crit   = -2.59031880\n",
      "    Bayesian info crit = -1.98514861\n",
      "[[Variables]]\n",
      "    a:  0.32450980 +/- 0.65199943 (200.92%) (init = 0)\n",
      "    b: -0.36974153 +/- 0.72877958 (197.11%) (init = 0)\n",
      "    c:  1.04523173 +/- 0.07848551 (7.51%) == '1 - a - b'\n",
      "[[Correlations]] (unreported correlations are < 0.100)\n",
      "    C(a, b) = -1.000\n",
      "\n"
     ]
    }
   ],
   "source": [
    "print(result.fit_report())"
   ]
  },
  {
   "cell_type": "code",
   "execution_count": 155,
   "metadata": {},
   "outputs": [
    {
     "data": {
      "text/plain": [
       "(<Figure size 432x432 with 2 Axes>, GridSpec(2, 1, height_ratios=[1, 4]))"
      ]
     },
     "execution_count": 155,
     "metadata": {},
     "output_type": "execute_result"
    },
    {
     "data": {
      "image/png": "[encoded data removed]",
      "text/plain": [
       "<Figure size 432x432 with 2 Axes>"
      ]
     },
     "metadata": {
      "needs_background": "light"
     },
     "output_type": "display_data"
    }
   ],
   "source": [
    "result.plot()"
   ]
  },
  {
   "cell_type": "code",
   "execution_count": 156,
   "metadata": {},
   "outputs": [
    {
     "name": "stdout",
     "output_type": "stream",
     "text": [
      "      99.73%    95.45%    68.27%    _BEST_    68.27%    95.45%    99.73%\n",
      " a:  -2.78836  -1.54290  -0.69538   0.32451  +0.69538  +1.54290  +2.78836\n",
      " b:  -3.11672  -1.72460  -0.77726  -0.36974  +0.77726  +1.72460  +3.11672\n"
     ]
    }
   ],
   "source": [
    "print(result.ci_report())"
   ]
  },
  {
   "cell_type": "code",
   "execution_count": 157,
   "metadata": {},
   "outputs": [
    {
     "name": "stdout",
     "output_type": "stream",
     "text": [
      "{'a': 0.32450980214433056, 'b': -0.36974153101358287, 'c': 1.0452317288692523}\n"
     ]
    }
   ],
   "source": [
    "print(result.best_values)"
   ]
  },
  {
   "cell_type": "code",
   "execution_count": 9,
   "metadata": {},
   "outputs": [
    {
     "name": "stdout",
     "output_type": "stream",
     "text": [
      "0.9333333906703979\n"
     ]
    }
   ],
   "source": [
    "print(result.best_values['a'])"
   ]
  },
  {
   "cell_type": "code",
   "execution_count": null,
   "metadata": {},
   "outputs": [],
   "source": []
  }
 ],
 "metadata": {
  "kernelspec": {
   "display_name": "Python 3",
   "language": "python",
   "name": "python3"
  },
  "language_info": {
   "codemirror_mode": {
    "name": "ipython",
    "version": 3
   },
   "file_extension": ".py",
   "mimetype": "text/x-python",
   "name": "python",
   "nbconvert_exporter": "python",
   "pygments_lexer": "ipython3",
   "version": "3.7.3"
  }
 },
 "nbformat": 4,
 "nbformat_minor": 2
}
