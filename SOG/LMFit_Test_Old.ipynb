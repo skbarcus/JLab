{
 "cells": [
  {
   "cell_type": "code",
   "execution_count": 34,
   "metadata": {},
   "outputs": [
    {
     "name": "stdout",
     "output_type": "stream",
     "text": [
      "[ 1.  2.  3.  4.  5.  6.  7.  8.  9. 10.]\n",
      "[  1.   4.   9.  16.  25.  38.  45.  62.  86. 100.]\n",
      "[[Fit Statistics]]\n",
      "    # fitting method   = leastsq\n",
      "    # function evals   = 141\n",
      "    # data points      = 10\n",
      "    # variables        = 3\n",
      "    chi-square         = 9.51767760\n",
      "    reduced chi-square = 1.35966823\n",
      "    Akaike info crit   = 5.50565777\n",
      "    Bayesian info crit = 6.41341305\n",
      "##  Warning: uncertainties could not be estimated:\n",
      "    a:  at boundary\n",
      "    b:  at boundary\n",
      "[[Variables]]\n",
      "    a:  5.3712e-09 (init = 0.1)\n",
      "    b:  2.4093e-09 (init = 0.1)\n",
      "    c:  1.01065436 (init = 0.8)\n"
     ]
    },
    {
     "data": {
      "image/png": "[encoded data removed]",
      "text/plain": [
       "<Figure size 432x288 with 1 Axes>"
      ]
     },
     "metadata": {
      "needs_background": "light"
     },
     "output_type": "display_data"
    }
   ],
   "source": [
    "import numpy as np\n",
    "#matplotlib \n",
    "from numpy import cos, sin\n",
    "import matplotlib.pyplot as plt\n",
    "#Import math module\n",
    "#import math\n",
    "#Import LMfit to minimize chi^2.\n",
    "import lmfit\n",
    "from lmfit import Minimizer, Parameters, report_fit\n",
    "#from lmfit import minimize, Parameters\n",
    "\n",
    "X,Y = np.loadtxt('Test.txt', skiprows=0, unpack=True)\n",
    "\n",
    "print(X)\n",
    "print(Y)\n",
    "\n",
    "def Parabola(X,a,b,c):\n",
    "    pars = [a,b,c]\n",
    "    Y = (pars[0] + pars[1] * X + pars[2] * X ** 2) #Also works!\n",
    "    #Y = (a + b * X + c * X ** 2) #works!\n",
    "    return Y\n",
    "\n",
    "#d=5\n",
    "\n",
    "#def chi2(params, Q0ch,Q1ch,Q2ch,Q3ch,Q4ch,Q5ch,Q6ch,Q7ch,Q8ch,Q9ch,Q10ch,Q11ch,Q0m,Q1m,Q2m,Q3m,Q4m,Q5m,Q6m,Q7m,Q8m,Q9m,Q10m,Q11m):\n",
    "def chi2(params, X, Y):\n",
    "    \n",
    "    a = params['a']\n",
    "    b = params['b']\n",
    "    c = params['c']\n",
    "    \n",
    "    #delta = (sigexp-XS(E0[0],theta[0]))/uncertainty\n",
    "    #delta = (Y - (a + b * X + c * X ** 2))/0.001  #Works!\n",
    "    delta = (Y - Parabola(X,a,b,c))/3  #Also works!\n",
    "    chi2 = delta ** 2\n",
    "    \n",
    "    return chi2\n",
    "\n",
    "params = Parameters()\n",
    "params.add('a', value=0.1, min=0)\n",
    "params.add('b', value=0.1, min=0)\n",
    "params.add('c', value=0.8, min=0)\n",
    "\n",
    "minner = Minimizer(chi2, params, fcn_args=(X, Y))\n",
    "result = minner.minimize()\n",
    "final = Y + result.residual\n",
    "report_fit(result)\n",
    "\n",
    "#lmfit.printfuncs.report_fit(minner.params, min_correl=0.5)\n",
    "\n",
    "plt.plot(X,Y,'k+')\n",
    "plt.plot(X,final,'r')\n",
    "plt.show()"
   ]
  },
  {
   "cell_type": "code",
   "execution_count": null,
   "metadata": {},
   "outputs": [],
   "source": [
    "from lmfit import  "
   ]
  },
  {
   "cell_type": "code",
   "execution_count": null,
   "metadata": {},
   "outputs": [],
   "source": []
  }
 ],
 "metadata": {
  "kernelspec": {
   "display_name": "Python 3",
   "language": "python",
   "name": "python3"
  },
  "language_info": {
   "codemirror_mode": {
    "name": "ipython",
    "version": 3
   },
   "file_extension": ".py",
   "mimetype": "text/x-python",
   "name": "python",
   "nbconvert_exporter": "python",
   "pygments_lexer": "ipython3",
   "version": "3.7.3"
  }
 },
 "nbformat": 4,
 "nbformat_minor": 2
}
